{
  "nbformat": 4,
  "nbformat_minor": 0,
  "metadata": {
    "colab": {
      "provenance": []
    },
    "kernelspec": {
      "name": "python3",
      "display_name": "Python 3"
    },
    "language_info": {
      "name": "python"
    }
  },
  "cells": [
    {
      "cell_type": "markdown",
      "source": [
        "Link to Google Drive"
      ],
      "metadata": {
        "id": "OJW618KOBVDi"
      }
    },
    {
      "cell_type": "code",
      "source": [
        "from google.colab import drive\n",
        "drive.mount('/content/drive')"
      ],
      "metadata": {
        "colab": {
          "base_uri": "https://localhost:8080/"
        },
        "id": "7VBoYJb4BTyI",
        "outputId": "d61aaa4d-e5e8-48a6-a24b-361471d365d1"
      },
      "execution_count": 6,
      "outputs": [
        {
          "output_type": "stream",
          "name": "stdout",
          "text": [
            "Mounted at /content/drive\n"
          ]
        }
      ]
    },
    {
      "cell_type": "markdown",
      "source": [
        "1.Loading and Displaying Datasets from Google Drive"
      ],
      "metadata": {
        "id": "9deYKMv0pdVE"
      }
    },
    {
      "cell_type": "code",
      "execution_count": null,
      "metadata": {
        "colab": {
          "base_uri": "https://localhost:8080/"
        },
        "id": "yT6ZgbgMiHDR",
        "outputId": "ca5ab7fe-2211-4020-8a4f-b2343d154a47"
      },
      "outputs": [
        {
          "output_type": "stream",
          "name": "stdout",
          "text": [
            "Mounted at /content/drive\n",
            "Heart CSV Dataset:\n",
            "   age  sex  cp  trestbps  chol  fbs  restecg  thalach  exang  oldpeak  slope  \\\n",
            "0   52    1   0       125   212    0        1      168      0      1.0      2   \n",
            "1   53    1   0       140   203    1        0      155      1      3.1      0   \n",
            "2   70    1   0       145   174    0        1      125      1      2.6      0   \n",
            "3   61    1   0       148   203    0        1      161      0      0.0      2   \n",
            "4   62    0   0       138   294    1        1      106      0      1.9      1   \n",
            "\n",
            "   ca  thal  target  \n",
            "0   2     3       0  \n",
            "1   0     3       0  \n",
            "2   0     3       0  \n",
            "3   1     3       0  \n",
            "4   3     2       0  \n",
            "\n",
            "Heart DAT Dataset:\n",
            "    age  sex   cp  trestbps   chol  fbs  restecg  thalach  exang  oldpeak  \\\n",
            "0  70.0  1.0  4.0     130.0  322.0  0.0      2.0    109.0    0.0      2.4   \n",
            "1  67.0  0.0  3.0     115.0  564.0  0.0      2.0    160.0    0.0      1.6   \n",
            "2  57.0  1.0  2.0     124.0  261.0  0.0      0.0    141.0    0.0      0.3   \n",
            "3  64.0  1.0  4.0     128.0  263.0  0.0      0.0    105.0    1.0      0.2   \n",
            "4  74.0  0.0  2.0     120.0  269.0  0.0      2.0    121.0    1.0      0.2   \n",
            "\n",
            "   slope   ca  thal  target  \n",
            "0    2.0  3.0   3.0       2  \n",
            "1    2.0  0.0   7.0       1  \n",
            "2    1.0  0.0   7.0       2  \n",
            "3    2.0  1.0   7.0       1  \n",
            "4    1.0  1.0   3.0       1  \n"
          ]
        }
      ],
      "source": [
        "from google.colab import drive\n",
        "import pandas as pd\n",
        "\n",
        "# Mount Google Drive\n",
        "drive.mount('/content/drive')\n",
        "\n",
        "# File paths in your Drive\n",
        "csv_file_path = '/content/drive/My Drive/ML_Project/heart.csv'\n",
        "dat_file_path = '/content/drive/My Drive/ML_Project/heart.dat'\n",
        "\n",
        "# Load the heart.csv dataset\n",
        "heart_csv = pd.read_csv(csv_file_path)\n",
        "print(\"Heart CSV Dataset:\")\n",
        "print(heart_csv.head())\n",
        "\n",
        "# Load the heart.dat dataset\n",
        "columns = ['age', 'sex', 'cp', 'trestbps', 'chol', 'fbs', 'restecg', 'thalach', 'exang', 'oldpeak', 'slope', 'ca', 'thal', 'target']\n",
        "heart_dat = pd.read_csv(dat_file_path, sep='\\s+', header=None, names=columns)\n",
        "print(\"\\nHeart DAT Dataset:\")\n",
        "print(heart_dat.head())\n",
        "\n",
        "\n"
      ]
    },
    {
      "cell_type": "markdown",
      "source": [
        "2.Baseline Model Training Tuning"
      ],
      "metadata": {
        "id": "clwi8ALjrtZq"
      }
    },
    {
      "cell_type": "code",
      "source": [
        "# Import necessary libraries\n",
        "from google.colab import drive\n",
        "import pandas as pd\n",
        "from sklearn.model_selection import GridSearchCV, RandomizedSearchCV, train_test_split\n",
        "from sklearn.ensemble import RandomForestClassifier\n",
        "from sklearn.preprocessing import StandardScaler\n",
        "from sklearn.metrics import accuracy_score, classification_report\n",
        "\n",
        "# Mount Google Drive\n",
        "drive.mount('/content/drive')\n",
        "\n",
        "# File paths in your Drive\n",
        "csv_file_path = '/content/drive/My Drive/ML_Project/heart.csv'\n",
        "dat_file_path = '/content/drive/My Drive/ML_Project/heart.dat'\n",
        "\n",
        "# Load the heart.csv dataset\n",
        "heart_csv = pd.read_csv(csv_file_path)\n",
        "print(\"Heart CSV Dataset:\")\n",
        "print(heart_csv.head())\n",
        "\n",
        "# Load the heart.dat dataset\n",
        "columns = ['age', 'sex', 'cp', 'trestbps', 'chol', 'fbs', 'restecg', 'thalach', 'exang', 'oldpeak', 'slope', 'ca', 'thal', 'target']\n",
        "heart_dat = pd.read_csv(dat_file_path, sep='\\s+', header=None, names=columns)\n",
        "print(\"\\nHeart DAT Dataset:\")\n",
        "print(heart_dat.head())\n",
        "\n",
        "# Data Preprocessing for heart.csv dataset\n",
        "X_csv = heart_csv.drop(columns=['target'])\n",
        "y_csv = heart_csv['target']\n",
        "X_csv = pd.get_dummies(X_csv, drop_first=True)\n",
        "scaler = StandardScaler()\n",
        "X_csv = scaler.fit_transform(X_csv)\n",
        "X_csv_train, X_csv_test, y_csv_train, y_csv_test = train_test_split(X_csv, y_csv, test_size=0.2, random_state=42)\n",
        "\n",
        "# Data Preprocessing for heart.dat dataset\n",
        "X_dat = heart_dat.drop(columns=['target'])\n",
        "y_dat = heart_dat['target']\n",
        "X_dat = pd.get_dummies(X_dat, drop_first=True)\n",
        "X_dat = scaler.fit_transform(X_dat)\n",
        "X_dat_train, X_dat_test, y_dat_train, y_dat_test = train_test_split(X_dat, y_dat, test_size=0.2, random_state=42)\n",
        "\n",
        "# Baseline model training for heart.csv\n",
        "rf_csv = RandomForestClassifier(random_state=42)\n",
        "rf_csv.fit(X_csv_train, y_csv_train)\n",
        "y_csv_pred = rf_csv.predict(X_csv_test)\n",
        "print(\"Baseline Results on heart.csv dataset:\")\n",
        "print(\"Accuracy:\", accuracy_score(y_csv_test, y_csv_pred))\n",
        "print(\"Classification Report:\\n\", classification_report(y_csv_test, y_csv_pred))\n",
        "\n",
        "# Baseline model training for heart.dat\n",
        "rf_dat = RandomForestClassifier(random_state=42)\n",
        "rf_dat.fit(X_dat_train, y_dat_train)\n",
        "y_dat_pred = rf_dat.predict(X_dat_test)\n",
        "print(\"\\nBaseline Results on heart.dat dataset:\")\n",
        "print(\"Accuracy:\", accuracy_score(y_dat_test, y_dat_pred))\n",
        "print(\"Classification Report:\\n\", classification_report(y_dat_test, y_dat_pred))\n",
        "\n",
        "# Hyperparameter tuning using GridSearchCV for heart.csv\n",
        "param_grid = {\n",
        "    'n_estimators': [50, 100, 150],\n",
        "    'max_depth': [None, 10, 20],\n",
        "    'min_samples_split': [2, 5, 10]\n",
        "}\n",
        "grid_search_csv = GridSearchCV(estimator=RandomForestClassifier(random_state=42), param_grid=param_grid, cv=5, scoring='accuracy')\n",
        "grid_search_csv.fit(X_csv_train, y_csv_train)\n",
        "best_model_csv = grid_search_csv.best_estimator_\n",
        "y_csv_pred_optimized = best_model_csv.predict(X_csv_test)\n",
        "print(\"\\nOptimized Model Results on heart.csv dataset:\")\n",
        "print(\"Best Parameters:\", grid_search_csv.best_params_)\n",
        "print(\"Accuracy:\", accuracy_score(y_csv_test, y_csv_pred_optimized))\n",
        "print(\"Classification Report:\\n\", classification_report(y_csv_test, y_csv_pred_optimized))\n",
        "\n",
        "# Hyperparameter tuning using GridSearchCV for heart.dat\n",
        "grid_search_dat = GridSearchCV(estimator=RandomForestClassifier(random_state=42), param_grid=param_grid, cv=5, scoring='accuracy')\n",
        "grid_search_dat.fit(X_dat_train, y_dat_train)\n",
        "best_model_dat = grid_search_dat.best_estimator_\n",
        "y_dat_pred_optimized = best_model_dat.predict(X_dat_test)\n",
        "print(\"\\nOptimized Model Results on heart.dat dataset:\")\n",
        "print(\"Best Parameters:\", grid_search_dat.best_params_)\n",
        "print(\"Accuracy:\", accuracy_score(y_dat_test, y_dat_pred_optimized))\n",
        "print(\"Classification Report:\\n\", classification_report(y_dat_test, y_dat_pred_optimized))\n",
        "\n",
        "# RandomizedSearchCV for heart.csv\n",
        "param_dist = {\n",
        "    'n_estimators': [int(x) for x in range(50, 200)],\n",
        "    'max_depth': [None, 10, 20, 30],\n",
        "    'min_samples_split': [int(x) for x in range(2, 15)]\n",
        "}\n",
        "random_search_csv = RandomizedSearchCV(estimator=RandomForestClassifier(random_state=42), param_distributions=param_dist, n_iter=20, cv=5, scoring='accuracy', random_state=42)\n",
        "random_search_csv.fit(X_csv_train, y_csv_train)\n",
        "y_csv_pred_randomized = random_search_csv.best_estimator_.predict(X_csv_test)\n",
        "print(\"\\nOptimized Model Results using RandomizedSearchCV on heart.csv dataset:\")\n",
        "print(\"Best Parameters:\", random_search_csv.best_params_)\n",
        "print(\"Accuracy:\", accuracy_score(y_csv_test, y_csv_pred_randomized))\n",
        "print(\"Classification Report:\\n\", classification_report(y_csv_test, y_csv_pred_randomized))\n",
        "\n",
        "# RandomizedSearchCV for heart.dat\n",
        "random_search_dat = RandomizedSearchCV(estimator=RandomForestClassifier(random_state=42), param_distributions=param_dist, n_iter=20, cv=5, scoring='accuracy', random_state=42)\n",
        "random_search_dat.fit(X_dat_train, y_dat_train)\n",
        "y_dat_pred_randomized = random_search_dat.best_estimator_.predict(X_dat_test)\n",
        "print(\"\\nOptimized Model Results using RandomizedSearchCV on heart.dat dataset:\")\n",
        "print(\"Best Parameters:\", random_search_dat.best_params_)\n",
        "print(\"Accuracy:\", accuracy_score(y_dat_test, y_dat_pred_randomized))\n",
        "print(\"Classification Report:\\n\", classification_report(y_dat_test, y_dat_pred_randomized))\n",
        "\n"
      ],
      "metadata": {
        "colab": {
          "base_uri": "https://localhost:8080/"
        },
        "id": "iD1RXdDopAVD",
        "outputId": "75aa9240-6fb5-49be-c63f-d72eb98119d7"
      },
      "execution_count": 10,
      "outputs": [
        {
          "output_type": "stream",
          "name": "stdout",
          "text": [
            "Drive already mounted at /content/drive; to attempt to forcibly remount, call drive.mount(\"/content/drive\", force_remount=True).\n",
            "Heart CSV Dataset:\n",
            "   age  sex  cp  trestbps  chol  fbs  restecg  thalach  exang  oldpeak  slope  \\\n",
            "0   52    1   0       125   212    0        1      168      0      1.0      2   \n",
            "1   53    1   0       140   203    1        0      155      1      3.1      0   \n",
            "2   70    1   0       145   174    0        1      125      1      2.6      0   \n",
            "3   61    1   0       148   203    0        1      161      0      0.0      2   \n",
            "4   62    0   0       138   294    1        1      106      0      1.9      1   \n",
            "\n",
            "   ca  thal  target  \n",
            "0   2     3       0  \n",
            "1   0     3       0  \n",
            "2   0     3       0  \n",
            "3   1     3       0  \n",
            "4   3     2       0  \n",
            "\n",
            "Heart DAT Dataset:\n",
            "    age  sex   cp  trestbps   chol  fbs  restecg  thalach  exang  oldpeak  \\\n",
            "0  70.0  1.0  4.0     130.0  322.0  0.0      2.0    109.0    0.0      2.4   \n",
            "1  67.0  0.0  3.0     115.0  564.0  0.0      2.0    160.0    0.0      1.6   \n",
            "2  57.0  1.0  2.0     124.0  261.0  0.0      0.0    141.0    0.0      0.3   \n",
            "3  64.0  1.0  4.0     128.0  263.0  0.0      0.0    105.0    1.0      0.2   \n",
            "4  74.0  0.0  2.0     120.0  269.0  0.0      2.0    121.0    1.0      0.2   \n",
            "\n",
            "   slope   ca  thal  target  \n",
            "0    2.0  3.0   3.0       2  \n",
            "1    2.0  0.0   7.0       1  \n",
            "2    1.0  0.0   7.0       2  \n",
            "3    2.0  1.0   7.0       1  \n",
            "4    1.0  1.0   3.0       1  \n",
            "Baseline Results on heart.csv dataset:\n",
            "Accuracy: 0.9853658536585366\n",
            "Classification Report:\n",
            "               precision    recall  f1-score   support\n",
            "\n",
            "           0       0.97      1.00      0.99       102\n",
            "           1       1.00      0.97      0.99       103\n",
            "\n",
            "    accuracy                           0.99       205\n",
            "   macro avg       0.99      0.99      0.99       205\n",
            "weighted avg       0.99      0.99      0.99       205\n",
            "\n",
            "\n",
            "Baseline Results on heart.dat dataset:\n",
            "Accuracy: 0.7962962962962963\n",
            "Classification Report:\n",
            "               precision    recall  f1-score   support\n",
            "\n",
            "           1       0.81      0.88      0.84        33\n",
            "           2       0.78      0.67      0.72        21\n",
            "\n",
            "    accuracy                           0.80        54\n",
            "   macro avg       0.79      0.77      0.78        54\n",
            "weighted avg       0.79      0.80      0.79        54\n",
            "\n",
            "\n",
            "Optimized Model Results on heart.csv dataset:\n",
            "Best Parameters: {'max_depth': None, 'min_samples_split': 2, 'n_estimators': 50}\n",
            "Accuracy: 0.9853658536585366\n",
            "Classification Report:\n",
            "               precision    recall  f1-score   support\n",
            "\n",
            "           0       0.97      1.00      0.99       102\n",
            "           1       1.00      0.97      0.99       103\n",
            "\n",
            "    accuracy                           0.99       205\n",
            "   macro avg       0.99      0.99      0.99       205\n",
            "weighted avg       0.99      0.99      0.99       205\n",
            "\n",
            "\n",
            "Optimized Model Results on heart.dat dataset:\n",
            "Best Parameters: {'max_depth': None, 'min_samples_split': 10, 'n_estimators': 50}\n",
            "Accuracy: 0.8333333333333334\n",
            "Classification Report:\n",
            "               precision    recall  f1-score   support\n",
            "\n",
            "           1       0.83      0.91      0.87        33\n",
            "           2       0.83      0.71      0.77        21\n",
            "\n",
            "    accuracy                           0.83        54\n",
            "   macro avg       0.83      0.81      0.82        54\n",
            "weighted avg       0.83      0.83      0.83        54\n",
            "\n",
            "\n",
            "Optimized Model Results using RandomizedSearchCV on heart.csv dataset:\n",
            "Best Parameters: {'n_estimators': 180, 'min_samples_split': 2, 'max_depth': None}\n",
            "Accuracy: 0.9853658536585366\n",
            "Classification Report:\n",
            "               precision    recall  f1-score   support\n",
            "\n",
            "           0       0.97      1.00      0.99       102\n",
            "           1       1.00      0.97      0.99       103\n",
            "\n",
            "    accuracy                           0.99       205\n",
            "   macro avg       0.99      0.99      0.99       205\n",
            "weighted avg       0.99      0.99      0.99       205\n",
            "\n",
            "\n",
            "Optimized Model Results using RandomizedSearchCV on heart.dat dataset:\n",
            "Best Parameters: {'n_estimators': 71, 'min_samples_split': 10, 'max_depth': 10}\n",
            "Accuracy: 0.8333333333333334\n",
            "Classification Report:\n",
            "               precision    recall  f1-score   support\n",
            "\n",
            "           1       0.83      0.91      0.87        33\n",
            "           2       0.83      0.71      0.77        21\n",
            "\n",
            "    accuracy                           0.83        54\n",
            "   macro avg       0.83      0.81      0.82        54\n",
            "weighted avg       0.83      0.83      0.83        54\n",
            "\n"
          ]
        }
      ]
    },
    {
      "cell_type": "markdown",
      "source": [
        "3.Heart Disease Prediction - Model Training and Hyperparameter Tuning"
      ],
      "metadata": {
        "id": "IQhpI7ShrnIm"
      }
    },
    {
      "cell_type": "code",
      "source": [
        "# Import necessary libraries\n",
        "from google.colab import drive\n",
        "import pandas as pd\n",
        "from sklearn.model_selection import GridSearchCV, RandomizedSearchCV, train_test_split, cross_val_score\n",
        "from sklearn.ensemble import RandomForestClassifier\n",
        "from sklearn.linear_model import LogisticRegression\n",
        "from sklearn.preprocessing import StandardScaler\n",
        "from sklearn.metrics import accuracy_score, classification_report, ConfusionMatrixDisplay\n",
        "import matplotlib.pyplot as plt\n",
        "\n",
        "# Mount Google Drive\n",
        "drive.mount('/content/drive')\n",
        "\n",
        "# File paths in your Drive\n",
        "csv_file_path = '/content/drive/My Drive/ML_Project/heart.csv'\n",
        "dat_file_path = '/content/drive/My Drive/ML_Project/heart.dat'\n",
        "\n",
        "# Load the heart.csv dataset\n",
        "heart_csv = pd.read_csv(csv_file_path)\n",
        "print(\"Heart CSV Dataset:\")\n",
        "print(heart_csv.head())\n",
        "\n",
        "# Load the heart.dat dataset\n",
        "columns = ['age', 'sex', 'cp', 'trestbps', 'chol', 'fbs', 'restecg', 'thalach', 'exang', 'oldpeak', 'slope', 'ca', 'thal', 'target']\n",
        "heart_dat = pd.read_csv(dat_file_path, sep='\\s+', header=None, names=columns)\n",
        "print(\"\\nHeart DAT Dataset:\")\n",
        "print(heart_dat.head())\n",
        "\n",
        "# Data Preprocessing for heart.csv dataset\n",
        "# Separate features and target from the heart.csv dataset\n",
        "X_csv = heart_csv.drop(columns=['target'])  # Assuming 'target' is the label column in heart.csv\n",
        "y_csv = heart_csv['target']\n",
        "\n",
        "# One-hot encode categorical features if needed\n",
        "X_csv = pd.get_dummies(X_csv, drop_first=True)\n",
        "\n",
        "# Standardize the dataset\n",
        "scaler = StandardScaler()\n",
        "X_csv = scaler.fit_transform(X_csv)\n",
        "\n",
        "# Split dataset into train and test sets\n",
        "X_csv_train, X_csv_test, y_csv_train, y_csv_test = train_test_split(X_csv, y_csv, test_size=0.2, random_state=42)\n",
        "\n",
        "# Data Preprocessing for heart.dat dataset\n",
        "# Separate features and target from the heart.dat dataset\n",
        "X_dat = heart_dat.drop(columns=['target'])\n",
        "y_dat = heart_dat['target']\n",
        "\n",
        "# One-hot encode categorical features if needed\n",
        "X_dat = pd.get_dummies(X_dat, drop_first=True)\n",
        "\n",
        "# Standardize the dataset\n",
        "X_dat = scaler.fit_transform(X_dat)\n",
        "\n",
        "# Split dataset into train and test sets\n",
        "X_dat_train, X_dat_test, y_dat_train, y_dat_test = train_test_split(X_dat, y_dat, test_size=0.2, random_state=42)\n",
        "\n",
        "# Baseline model training on heart.csv\n",
        "rf_csv = RandomForestClassifier(random_state=42)\n",
        "rf_csv.fit(X_csv_train, y_csv_train)\n",
        "y_csv_pred = rf_csv.predict(X_csv_test)\n",
        "\n",
        "print(\"\\nBaseline Results on heart.csv dataset:\")\n",
        "print(\"Accuracy:\", accuracy_score(y_csv_test, y_csv_pred))\n",
        "print(\"Classification Report:\\n\", classification_report(y_csv_test, y_csv_pred))\n",
        "\n",
        "# Confusion Matrix for heart.csv\n",
        "ConfusionMatrixDisplay.from_estimator(rf_csv, X_csv_test, y_csv_test, cmap=\"Blues\")\n",
        "plt.title(\"Confusion Matrix - heart.csv Dataset\")\n",
        "plt.savefig(\"confusion_matrix_csv.png\")\n",
        "plt.show()\n",
        "\n",
        "# Baseline model training on heart.dat\n",
        "rf_dat = RandomForestClassifier(random_state=42)\n",
        "rf_dat.fit(X_dat_train, y_dat_train)\n",
        "y_dat_pred = rf_dat.predict(X_dat_test)\n",
        "\n",
        "print(\"\\nBaseline Results on heart.dat dataset:\")\n",
        "print(\"Accuracy:\", accuracy_score(y_dat_test, y_dat_pred))\n",
        "print(\"Classification Report:\\n\", classification_report(y_dat_test, y_dat_pred))\n",
        "\n",
        "# Confusion Matrix for heart.dat\n",
        "ConfusionMatrixDisplay.from_estimator(rf_dat, X_dat_test, y_dat_test, cmap=\"Blues\")\n",
        "plt.title(\"Confusion Matrix - heart.dat Dataset\")\n",
        "plt.savefig(\"confusion_matrix_dat.png\")\n",
        "plt.show()\n",
        "\n"
      ],
      "metadata": {
        "colab": {
          "base_uri": "https://localhost:8080/",
          "height": 1000
        },
        "id": "k8Xs3mF6rnk7",
        "outputId": "1091b599-35a2-4dd0-ed3e-b54be3da1216"
      },
      "execution_count": 13,
      "outputs": [
        {
          "output_type": "stream",
          "name": "stdout",
          "text": [
            "Drive already mounted at /content/drive; to attempt to forcibly remount, call drive.mount(\"/content/drive\", force_remount=True).\n",
            "Heart CSV Dataset:\n",
            "   age  sex  cp  trestbps  chol  fbs  restecg  thalach  exang  oldpeak  slope  \\\n",
            "0   52    1   0       125   212    0        1      168      0      1.0      2   \n",
            "1   53    1   0       140   203    1        0      155      1      3.1      0   \n",
            "2   70    1   0       145   174    0        1      125      1      2.6      0   \n",
            "3   61    1   0       148   203    0        1      161      0      0.0      2   \n",
            "4   62    0   0       138   294    1        1      106      0      1.9      1   \n",
            "\n",
            "   ca  thal  target  \n",
            "0   2     3       0  \n",
            "1   0     3       0  \n",
            "2   0     3       0  \n",
            "3   1     3       0  \n",
            "4   3     2       0  \n",
            "\n",
            "Heart DAT Dataset:\n",
            "    age  sex   cp  trestbps   chol  fbs  restecg  thalach  exang  oldpeak  \\\n",
            "0  70.0  1.0  4.0     130.0  322.0  0.0      2.0    109.0    0.0      2.4   \n",
            "1  67.0  0.0  3.0     115.0  564.0  0.0      2.0    160.0    0.0      1.6   \n",
            "2  57.0  1.0  2.0     124.0  261.0  0.0      0.0    141.0    0.0      0.3   \n",
            "3  64.0  1.0  4.0     128.0  263.0  0.0      0.0    105.0    1.0      0.2   \n",
            "4  74.0  0.0  2.0     120.0  269.0  0.0      2.0    121.0    1.0      0.2   \n",
            "\n",
            "   slope   ca  thal  target  \n",
            "0    2.0  3.0   3.0       2  \n",
            "1    2.0  0.0   7.0       1  \n",
            "2    1.0  0.0   7.0       2  \n",
            "3    2.0  1.0   7.0       1  \n",
            "4    1.0  1.0   3.0       1  \n",
            "\n",
            "Baseline Results on heart.csv dataset:\n",
            "Accuracy: 0.9853658536585366\n",
            "Classification Report:\n",
            "               precision    recall  f1-score   support\n",
            "\n",
            "           0       0.97      1.00      0.99       102\n",
            "           1       1.00      0.97      0.99       103\n",
            "\n",
            "    accuracy                           0.99       205\n",
            "   macro avg       0.99      0.99      0.99       205\n",
            "weighted avg       0.99      0.99      0.99       205\n",
            "\n"
          ]
        },
        {
          "output_type": "display_data",
          "data": {
            "text/plain": [
              "<Figure size 640x480 with 2 Axes>"
            ],
            "image/png": "[encoded data removed]"
          },
          "metadata": {}
        },
        {
          "output_type": "stream",
          "name": "stdout",
          "text": [
            "\n",
            "Baseline Results on heart.dat dataset:\n",
            "Accuracy: 0.7962962962962963\n",
            "Classification Report:\n",
            "               precision    recall  f1-score   support\n",
            "\n",
            "           1       0.81      0.88      0.84        33\n",
            "           2       0.78      0.67      0.72        21\n",
            "\n",
            "    accuracy                           0.80        54\n",
            "   macro avg       0.79      0.77      0.78        54\n",
            "weighted avg       0.79      0.80      0.79        54\n",
            "\n"
          ]
        },
        {
          "output_type": "display_data",
          "data": {
            "text/plain": [
              "<Figure size 640x480 with 2 Axes>"
            ],
            "image/png": "[encoded data removed]"
          },
          "metadata": {}
        }
      ]
    },
    {
      "cell_type": "markdown",
      "source": [
        "Deep Learning Model - MLP for datasets"
      ],
      "metadata": {
        "id": "H02ivLWpAAiz"
      }
    },
    {
      "cell_type": "code",
      "source": [
        "# Import necessary libraries\n",
        "import tensorflow as tf\n",
        "from tensorflow.keras.models import Sequential\n",
        "from tensorflow.keras.layers import Dense\n",
        "from sklearn.model_selection import train_test_split\n",
        "from sklearn.preprocessing import StandardScaler\n",
        "from sklearn.metrics import accuracy_score, classification_report\n",
        "import pandas as pd\n",
        "\n",
        "# Load heart.csv dataset\n",
        "csv_file_path = '/content/drive/My Drive/ML_Project/heart.csv'\n",
        "heart_csv = pd.read_csv(csv_file_path)\n",
        "\n",
        "# Separate features and target from the heart.csv dataset\n",
        "X_csv = heart_csv.drop(columns=['target'])  # Assuming 'target' is the label column in heart.csv\n",
        "y_csv = heart_csv['target']\n",
        "\n",
        "# One-hot encode categorical features if needed\n",
        "X_csv = pd.get_dummies(X_csv, drop_first=True)\n",
        "\n",
        "# Standardize the dataset\n",
        "scaler = StandardScaler()\n",
        "X_csv = scaler.fit_transform(X_csv)\n",
        "\n",
        "# Split dataset into train and test sets\n",
        "X_csv_train, X_csv_test, y_csv_train, y_csv_test = train_test_split(X_csv, y_csv, test_size=0.2, random_state=42)\n",
        "\n",
        "# Step 4a: Deep Learning Model - MLP for heart.csv dataset\n",
        "# Define the MLP model for heart.csv\n",
        "mlp_model_csv = Sequential([\n",
        "    Dense(128, activation='relu', input_shape=(X_csv_train.shape[1],)),  # First hidden layer with 128 neurons, ReLU activation\n",
        "    Dense(64, activation='relu'),  # Second hidden layer with 64 neurons, ReLU activation\n",
        "    Dense(1, activation='sigmoid')  # Output layer with sigmoid activation for binary classification\n",
        "])\n",
        "\n",
        "# Compile the model\n",
        "mlp_model_csv.compile(optimizer='adam', loss='binary_crossentropy', metrics=['accuracy'])\n",
        "\n",
        "# Train the model\n",
        "mlp_model_csv.fit(X_csv_train, y_csv_train, epochs=50, batch_size=16, validation_data=(X_csv_test, y_csv_test))\n",
        "\n",
        "# Predict using the test set\n",
        "y_pred_prob_csv = mlp_model_csv.predict(X_csv_test)\n",
        "y_mlp_pred_csv = (y_pred_prob_csv > 0.5).astype(int).flatten()  # Convert probabilities to binary predictions\n",
        "\n",
        "# Evaluate model performance\n",
        "print(\"\\nDeep Learning MLP Model Results on heart.csv dataset:\")\n",
        "print(\"Accuracy:\", accuracy_score(y_csv_test, y_mlp_pred_csv))\n",
        "print(\"Classification Report:\\n\", classification_report(y_csv_test, y_mlp_pred_csv))\n",
        "\n",
        "# Load heart.dat dataset\n",
        "columns = ['age', 'sex', 'cp', 'trestbps', 'chol', 'fbs', 'restecg', 'thalach', 'exang', 'oldpeak', 'slope', 'ca', 'thal', 'target']\n",
        "dat_file_path = '/content/drive/My Drive/ML_Project/heart.dat'\n",
        "heart_dat = pd.read_csv(dat_file_path, sep='\\s+', header=None, names=columns)\n",
        "\n",
        "# Separate features and target from the heart.dat dataset\n",
        "X_dat = heart_dat.drop(columns=['target'])\n",
        "y_dat = heart_dat['target']\n",
        "\n",
        "# One-hot encode categorical features if needed\n",
        "X_dat = pd.get_dummies(X_dat, drop_first=True)\n",
        "\n",
        "# Standardize the dataset\n",
        "X_dat = scaler.fit_transform(X_dat)\n",
        "\n",
        "# Split dataset into train and test sets\n",
        "X_dat_train, X_dat_test, y_dat_train, y_dat_test = train_test_split(X_dat, y_dat, test_size=0.2, random_state=42)\n",
        "\n",
        "# Step 4b: Deep Learning Model - MLP for heart.dat dataset\n",
        "# Define the MLP model for heart.dat\n",
        "mlp_model_dat = Sequential([\n",
        "    Dense(128, activation='relu', input_shape=(X_dat_train.shape[1],)),  # First hidden layer with 128 neurons, ReLU activation\n",
        "    Dense(64, activation='relu'),  # Second hidden layer with 64 neurons, ReLU activation\n",
        "    Dense(1, activation='sigmoid')  # Output layer with sigmoid activation for binary classification\n",
        "])\n",
        "\n",
        "# Compile the model\n",
        "mlp_model_dat.compile(optimizer='adam', loss='binary_crossentropy', metrics=['accuracy'])\n",
        "\n",
        "# Train the model\n",
        "mlp_model_dat.fit(X_dat_train, y_dat_train, epochs=50, batch_size=16, validation_data=(X_dat_test, y_dat_test))\n",
        "\n",
        "# Predict using the test set\n",
        "y_pred_prob_dat = mlp_model_dat.predict(X_dat_test)\n",
        "y_mlp_pred_dat = (y_pred_prob_dat > 0.5).astype(int).flatten()  # Convert probabilities to binary predictions\n",
        "\n",
        "# Evaluate model performance\n",
        "print(\"\\nDeep Learning MLP Model Results on heart.dat dataset:\")\n",
        "print(\"Accuracy:\", accuracy_score(y_dat_test, y_mlp_pred_dat))\n",
        "print(\"Classification Report:\\n\", classification_report(y_dat_test, y_mlp_pred_dat))\n",
        "\n"
      ],
      "metadata": {
        "colab": {
          "base_uri": "https://localhost:8080/"
        },
        "id": "39y8pB4qABgv",
        "outputId": "67b85a9b-c439-4588-cbbf-b0f0c47334d4"
      },
      "execution_count": null,
      "outputs": [
        {
          "output_type": "stream",
          "name": "stderr",
          "text": [
            "/usr/local/lib/python3.10/dist-packages/keras/src/layers/core/dense.py:87: UserWarning: Do not pass an `input_shape`/`input_dim` argument to a layer. When using Sequential models, prefer using an `Input(shape)` object as the first layer in the model instead.\n",
            "  super().__init__(activity_regularizer=activity_regularizer, **kwargs)\n"
          ]
        },
        {
          "output_type": "stream",
          "name": "stdout",
          "text": [
            "Epoch 1/50\n",
            "\u001b[1m52/52\u001b[0m \u001b[32m━━━━━━━━━━━━━━━━━━━━\u001b[0m\u001b[37m\u001b[0m \u001b[1m1s\u001b[0m 6ms/step - accuracy: 0.6936 - loss: 0.5816 - val_accuracy: 0.8098 - val_loss: 0.4228\n",
            "Epoch 2/50\n",
            "\u001b[1m52/52\u001b[0m \u001b[32m━━━━━━━━━━━━━━━━━━━━\u001b[0m\u001b[37m\u001b[0m \u001b[1m0s\u001b[0m 2ms/step - accuracy: 0.8638 - loss: 0.3280 - val_accuracy: 0.8146 - val_loss: 0.3890\n",
            "Epoch 3/50\n",
            "\u001b[1m52/52\u001b[0m \u001b[32m━━━━━━━━━━━━━━━━━━━━\u001b[0m\u001b[37m\u001b[0m \u001b[1m0s\u001b[0m 2ms/step - accuracy: 0.8753 - loss: 0.3115 - val_accuracy: 0.8244 - val_loss: 0.3753\n",
            "Epoch 4/50\n",
            "\u001b[1m52/52\u001b[0m \u001b[32m━━━━━━━━━━━━━━━━━━━━\u001b[0m\u001b[37m\u001b[0m \u001b[1m0s\u001b[0m 3ms/step - accuracy: 0.9113 - loss: 0.2306 - val_accuracy: 0.8585 - val_loss: 0.3346\n",
            "Epoch 5/50\n",
            "\u001b[1m52/52\u001b[0m \u001b[32m━━━━━━━━━━━━━━━━━━━━\u001b[0m\u001b[37m\u001b[0m \u001b[1m0s\u001b[0m 3ms/step - accuracy: 0.9171 - loss: 0.2368 - val_accuracy: 0.8634 - val_loss: 0.3152\n",
            "Epoch 6/50\n",
            "\u001b[1m52/52\u001b[0m \u001b[32m━━━━━━━━━━━━━━━━━━━━\u001b[0m\u001b[37m\u001b[0m \u001b[1m0s\u001b[0m 3ms/step - accuracy: 0.9274 - loss: 0.1948 - val_accuracy: 0.8732 - val_loss: 0.2867\n",
            "Epoch 7/50\n",
            "\u001b[1m52/52\u001b[0m \u001b[32m━━━━━━━━━━━━━━━━━━━━\u001b[0m\u001b[37m\u001b[0m \u001b[1m0s\u001b[0m 2ms/step - accuracy: 0.9506 - loss: 0.1613 - val_accuracy: 0.8976 - val_loss: 0.2632\n",
            "Epoch 8/50\n",
            "\u001b[1m52/52\u001b[0m \u001b[32m━━━━━━━━━━━━━━━━━━━━\u001b[0m\u001b[37m\u001b[0m \u001b[1m0s\u001b[0m 2ms/step - accuracy: 0.9453 - loss: 0.1736 - val_accuracy: 0.8732 - val_loss: 0.2358\n",
            "Epoch 9/50\n",
            "\u001b[1m52/52\u001b[0m \u001b[32m━━━━━━━━━━━━━━━━━━━━\u001b[0m\u001b[37m\u001b[0m \u001b[1m0s\u001b[0m 2ms/step - accuracy: 0.9493 - loss: 0.1296 - val_accuracy: 0.8976 - val_loss: 0.2074\n",
            "Epoch 10/50\n",
            "\u001b[1m52/52\u001b[0m \u001b[32m━━━━━━━━━━━━━━━━━━━━\u001b[0m\u001b[37m\u001b[0m \u001b[1m0s\u001b[0m 2ms/step - accuracy: 0.9685 - loss: 0.1186 - val_accuracy: 0.9073 - val_loss: 0.1869\n",
            "Epoch 11/50\n",
            "\u001b[1m52/52\u001b[0m \u001b[32m━━━━━━━━━━━━━━━━━━━━\u001b[0m\u001b[37m\u001b[0m \u001b[1m0s\u001b[0m 3ms/step - accuracy: 0.9794 - loss: 0.1032 - val_accuracy: 0.9415 - val_loss: 0.1694\n",
            "Epoch 12/50\n",
            "\u001b[1m52/52\u001b[0m \u001b[32m━━━━━━━━━━━━━━━━━━━━\u001b[0m\u001b[37m\u001b[0m \u001b[1m0s\u001b[0m 2ms/step - accuracy: 0.9802 - loss: 0.0920 - val_accuracy: 0.9415 - val_loss: 0.1577\n",
            "Epoch 13/50\n",
            "\u001b[1m52/52\u001b[0m \u001b[32m━━━━━━━━━━━━━━━━━━━━\u001b[0m\u001b[37m\u001b[0m \u001b[1m0s\u001b[0m 2ms/step - accuracy: 0.9801 - loss: 0.0830 - val_accuracy: 0.9415 - val_loss: 0.1451\n",
            "Epoch 14/50\n",
            "\u001b[1m52/52\u001b[0m \u001b[32m━━━━━━━━━━━━━━━━━━━━\u001b[0m\u001b[37m\u001b[0m \u001b[1m0s\u001b[0m 2ms/step - accuracy: 0.9918 - loss: 0.0610 - val_accuracy: 0.9610 - val_loss: 0.1313\n",
            "Epoch 15/50\n",
            "\u001b[1m52/52\u001b[0m \u001b[32m━━━━━━━━━━━━━━━━━━━━\u001b[0m\u001b[37m\u001b[0m \u001b[1m0s\u001b[0m 2ms/step - accuracy: 0.9900 - loss: 0.0617 - val_accuracy: 0.9512 - val_loss: 0.1283\n",
            "Epoch 16/50\n",
            "\u001b[1m52/52\u001b[0m \u001b[32m━━━━━━━━━━━━━━━━━━━━\u001b[0m\u001b[37m\u001b[0m \u001b[1m0s\u001b[0m 3ms/step - accuracy: 0.9949 - loss: 0.0421 - val_accuracy: 0.9756 - val_loss: 0.1135\n",
            "Epoch 17/50\n",
            "\u001b[1m52/52\u001b[0m \u001b[32m━━━━━━━━━━━━━━━━━━━━\u001b[0m\u001b[37m\u001b[0m \u001b[1m0s\u001b[0m 2ms/step - accuracy: 0.9972 - loss: 0.0361 - val_accuracy: 0.9805 - val_loss: 0.1074\n",
            "Epoch 18/50\n",
            "\u001b[1m52/52\u001b[0m \u001b[32m━━━━━━━━━━━━━━━━━━━━\u001b[0m\u001b[37m\u001b[0m \u001b[1m0s\u001b[0m 2ms/step - accuracy: 0.9968 - loss: 0.0334 - val_accuracy: 0.9854 - val_loss: 0.1016\n",
            "Epoch 19/50\n",
            "\u001b[1m52/52\u001b[0m \u001b[32m━━━━━━━━━━━━━━━━━━━━\u001b[0m\u001b[37m\u001b[0m \u001b[1m0s\u001b[0m 2ms/step - accuracy: 1.0000 - loss: 0.0264 - val_accuracy: 0.9854 - val_loss: 0.1022\n",
            "Epoch 20/50\n",
            "\u001b[1m52/52\u001b[0m \u001b[32m━━━━━━━━━━━━━━━━━━━━\u001b[0m\u001b[37m\u001b[0m \u001b[1m0s\u001b[0m 2ms/step - accuracy: 1.0000 - loss: 0.0257 - val_accuracy: 0.9854 - val_loss: 0.0898\n",
            "Epoch 21/50\n",
            "\u001b[1m52/52\u001b[0m \u001b[32m━━━━━━━━━━━━━━━━━━━━\u001b[0m\u001b[37m\u001b[0m \u001b[1m0s\u001b[0m 2ms/step - accuracy: 1.0000 - loss: 0.0170 - val_accuracy: 0.9854 - val_loss: 0.0943\n",
            "Epoch 22/50\n",
            "\u001b[1m52/52\u001b[0m \u001b[32m━━━━━━━━━━━━━━━━━━━━\u001b[0m\u001b[37m\u001b[0m \u001b[1m0s\u001b[0m 3ms/step - accuracy: 1.0000 - loss: 0.0158 - val_accuracy: 0.9854 - val_loss: 0.0892\n",
            "Epoch 23/50\n",
            "\u001b[1m52/52\u001b[0m \u001b[32m━━━━━━━━━━━━━━━━━━━━\u001b[0m\u001b[37m\u001b[0m \u001b[1m0s\u001b[0m 2ms/step - accuracy: 1.0000 - loss: 0.0156 - val_accuracy: 0.9854 - val_loss: 0.0859\n",
            "Epoch 24/50\n",
            "\u001b[1m52/52\u001b[0m \u001b[32m━━━━━━━━━━━━━━━━━━━━\u001b[0m\u001b[37m\u001b[0m \u001b[1m0s\u001b[0m 2ms/step - accuracy: 1.0000 - loss: 0.0135 - val_accuracy: 0.9854 - val_loss: 0.0892\n",
            "Epoch 25/50\n",
            "\u001b[1m52/52\u001b[0m \u001b[32m━━━━━━━━━━━━━━━━━━━━\u001b[0m\u001b[37m\u001b[0m \u001b[1m0s\u001b[0m 2ms/step - accuracy: 1.0000 - loss: 0.0128 - val_accuracy: 0.9854 - val_loss: 0.0897\n",
            "Epoch 26/50\n",
            "\u001b[1m52/52\u001b[0m \u001b[32m━━━━━━━━━━━━━━━━━━━━\u001b[0m\u001b[37m\u001b[0m \u001b[1m0s\u001b[0m 2ms/step - accuracy: 1.0000 - loss: 0.0100 - val_accuracy: 0.9854 - val_loss: 0.0912\n",
            "Epoch 27/50\n",
            "\u001b[1m52/52\u001b[0m \u001b[32m━━━━━━━━━━━━━━━━━━━━\u001b[0m\u001b[37m\u001b[0m \u001b[1m0s\u001b[0m 3ms/step - accuracy: 1.0000 - loss: 0.0084 - val_accuracy: 0.9854 - val_loss: 0.0901\n",
            "Epoch 28/50\n",
            "\u001b[1m52/52\u001b[0m \u001b[32m━━━━━━━━━━━━━━━━━━━━\u001b[0m\u001b[37m\u001b[0m \u001b[1m0s\u001b[0m 2ms/step - accuracy: 1.0000 - loss: 0.0076 - val_accuracy: 0.9854 - val_loss: 0.0900\n",
            "Epoch 29/50\n",
            "\u001b[1m52/52\u001b[0m \u001b[32m━━━━━━━━━━━━━━━━━━━━\u001b[0m\u001b[37m\u001b[0m \u001b[1m0s\u001b[0m 2ms/step - accuracy: 1.0000 - loss: 0.0066 - val_accuracy: 0.9854 - val_loss: 0.0899\n",
            "Epoch 30/50\n",
            "\u001b[1m52/52\u001b[0m \u001b[32m━━━━━━━━━━━━━━━━━━━━\u001b[0m\u001b[37m\u001b[0m \u001b[1m0s\u001b[0m 2ms/step - accuracy: 1.0000 - loss: 0.0058 - val_accuracy: 0.9854 - val_loss: 0.0953\n",
            "Epoch 31/50\n",
            "\u001b[1m52/52\u001b[0m \u001b[32m━━━━━━━━━━━━━━━━━━━━\u001b[0m\u001b[37m\u001b[0m \u001b[1m0s\u001b[0m 2ms/step - accuracy: 1.0000 - loss: 0.0057 - val_accuracy: 0.9854 - val_loss: 0.0951\n",
            "Epoch 32/50\n",
            "\u001b[1m52/52\u001b[0m \u001b[32m━━━━━━━━━━━━━━━━━━━━\u001b[0m\u001b[37m\u001b[0m \u001b[1m0s\u001b[0m 2ms/step - accuracy: 1.0000 - loss: 0.0058 - val_accuracy: 0.9854 - val_loss: 0.0916\n",
            "Epoch 33/50\n",
            "\u001b[1m52/52\u001b[0m \u001b[32m━━━━━━━━━━━━━━━━━━━━\u001b[0m\u001b[37m\u001b[0m \u001b[1m0s\u001b[0m 3ms/step - accuracy: 1.0000 - loss: 0.0041 - val_accuracy: 0.9854 - val_loss: 0.0949\n",
            "Epoch 34/50\n",
            "\u001b[1m52/52\u001b[0m \u001b[32m━━━━━━━━━━━━━━━━━━━━\u001b[0m\u001b[37m\u001b[0m \u001b[1m0s\u001b[0m 2ms/step - accuracy: 1.0000 - loss: 0.0037 - val_accuracy: 0.9854 - val_loss: 0.0973\n",
            "Epoch 35/50\n",
            "\u001b[1m52/52\u001b[0m \u001b[32m━━━━━━━━━━━━━━━━━━━━\u001b[0m\u001b[37m\u001b[0m \u001b[1m0s\u001b[0m 2ms/step - accuracy: 1.0000 - loss: 0.0037 - val_accuracy: 0.9854 - val_loss: 0.0978\n",
            "Epoch 36/50\n",
            "\u001b[1m52/52\u001b[0m \u001b[32m━━━━━━━━━━━━━━━━━━━━\u001b[0m\u001b[37m\u001b[0m \u001b[1m0s\u001b[0m 2ms/step - accuracy: 1.0000 - loss: 0.0037 - val_accuracy: 0.9854 - val_loss: 0.0945\n",
            "Epoch 37/50\n",
            "\u001b[1m52/52\u001b[0m \u001b[32m━━━━━━━━━━━━━━━━━━━━\u001b[0m\u001b[37m\u001b[0m \u001b[1m0s\u001b[0m 2ms/step - accuracy: 1.0000 - loss: 0.0031 - val_accuracy: 0.9854 - val_loss: 0.0990\n",
            "Epoch 38/50\n",
            "\u001b[1m52/52\u001b[0m \u001b[32m━━━━━━━━━━━━━━━━━━━━\u001b[0m\u001b[37m\u001b[0m \u001b[1m0s\u001b[0m 3ms/step - accuracy: 1.0000 - loss: 0.0025 - val_accuracy: 0.9854 - val_loss: 0.0987\n",
            "Epoch 39/50\n",
            "\u001b[1m52/52\u001b[0m \u001b[32m━━━━━━━━━━━━━━━━━━━━\u001b[0m\u001b[37m\u001b[0m \u001b[1m0s\u001b[0m 2ms/step - accuracy: 1.0000 - loss: 0.0023 - val_accuracy: 0.9854 - val_loss: 0.1021\n",
            "Epoch 40/50\n",
            "\u001b[1m52/52\u001b[0m \u001b[32m━━━━━━━━━━━━━━━━━━━━\u001b[0m\u001b[37m\u001b[0m \u001b[1m0s\u001b[0m 2ms/step - accuracy: 1.0000 - loss: 0.0023 - val_accuracy: 0.9854 - val_loss: 0.1043\n",
            "Epoch 41/50\n",
            "\u001b[1m52/52\u001b[0m \u001b[32m━━━━━━━━━━━━━━━━━━━━\u001b[0m\u001b[37m\u001b[0m \u001b[1m0s\u001b[0m 2ms/step - accuracy: 1.0000 - loss: 0.0020 - val_accuracy: 0.9854 - val_loss: 0.1012\n",
            "Epoch 42/50\n",
            "\u001b[1m52/52\u001b[0m \u001b[32m━━━━━━━━━━━━━━━━━━━━\u001b[0m\u001b[37m\u001b[0m \u001b[1m0s\u001b[0m 3ms/step - accuracy: 1.0000 - loss: 0.0022 - val_accuracy: 0.9854 - val_loss: 0.1028\n",
            "Epoch 43/50\n",
            "\u001b[1m52/52\u001b[0m \u001b[32m━━━━━━━━━━━━━━━━━━━━\u001b[0m\u001b[37m\u001b[0m \u001b[1m0s\u001b[0m 2ms/step - accuracy: 1.0000 - loss: 0.0017 - val_accuracy: 0.9854 - val_loss: 0.1055\n",
            "Epoch 44/50\n",
            "\u001b[1m52/52\u001b[0m \u001b[32m━━━━━━━━━━━━━━━━━━━━\u001b[0m\u001b[37m\u001b[0m \u001b[1m0s\u001b[0m 4ms/step - accuracy: 1.0000 - loss: 0.0020 - val_accuracy: 0.9854 - val_loss: 0.1048\n",
            "Epoch 45/50\n",
            "\u001b[1m52/52\u001b[0m \u001b[32m━━━━━━━━━━━━━━━━━━━━\u001b[0m\u001b[37m\u001b[0m \u001b[1m0s\u001b[0m 4ms/step - accuracy: 1.0000 - loss: 0.0016 - val_accuracy: 0.9854 - val_loss: 0.1067\n",
            "Epoch 46/50\n",
            "\u001b[1m52/52\u001b[0m \u001b[32m━━━━━━━━━━━━━━━━━━━━\u001b[0m\u001b[37m\u001b[0m \u001b[1m0s\u001b[0m 5ms/step - accuracy: 1.0000 - loss: 0.0015 - val_accuracy: 0.9854 - val_loss: 0.1089\n",
            "Epoch 47/50\n",
            "\u001b[1m52/52\u001b[0m \u001b[32m━━━━━━━━━━━━━━━━━━━━\u001b[0m\u001b[37m\u001b[0m \u001b[1m0s\u001b[0m 4ms/step - accuracy: 1.0000 - loss: 0.0015 - val_accuracy: 0.9854 - val_loss: 0.1098\n",
            "Epoch 48/50\n",
            "\u001b[1m52/52\u001b[0m \u001b[32m━━━━━━━━━━━━━━━━━━━━\u001b[0m\u001b[37m\u001b[0m \u001b[1m0s\u001b[0m 3ms/step - accuracy: 1.0000 - loss: 0.0013 - val_accuracy: 0.9854 - val_loss: 0.1103\n",
            "Epoch 49/50\n",
            "\u001b[1m52/52\u001b[0m \u001b[32m━━━━━━━━━━━━━━━━━━━━\u001b[0m\u001b[37m\u001b[0m \u001b[1m0s\u001b[0m 4ms/step - accuracy: 1.0000 - loss: 0.0012 - val_accuracy: 0.9854 - val_loss: 0.1107\n",
            "Epoch 50/50\n",
            "\u001b[1m52/52\u001b[0m \u001b[32m━━━━━━━━━━━━━━━━━━━━\u001b[0m\u001b[37m\u001b[0m \u001b[1m0s\u001b[0m 5ms/step - accuracy: 1.0000 - loss: 0.0012 - val_accuracy: 0.9854 - val_loss: 0.1105\n",
            "\u001b[1m7/7\u001b[0m \u001b[32m━━━━━━━━━━━━━━━━━━━━\u001b[0m\u001b[37m\u001b[0m \u001b[1m0s\u001b[0m 10ms/step\n",
            "\n",
            "Deep Learning MLP Model Results on heart.csv dataset:\n",
            "Accuracy: 0.9853658536585366\n",
            "Classification Report:\n",
            "               precision    recall  f1-score   support\n",
            "\n",
            "           0       0.97      1.00      0.99       102\n",
            "           1       1.00      0.97      0.99       103\n",
            "\n",
            "    accuracy                           0.99       205\n",
            "   macro avg       0.99      0.99      0.99       205\n",
            "weighted avg       0.99      0.99      0.99       205\n",
            "\n",
            "Epoch 1/50\n"
          ]
        },
        {
          "output_type": "stream",
          "name": "stderr",
          "text": [
            "/usr/local/lib/python3.10/dist-packages/keras/src/layers/core/dense.py:87: UserWarning: Do not pass an `input_shape`/`input_dim` argument to a layer. When using Sequential models, prefer using an `Input(shape)` object as the first layer in the model instead.\n",
            "  super().__init__(activity_regularizer=activity_regularizer, **kwargs)\n"
          ]
        },
        {
          "output_type": "stream",
          "name": "stdout",
          "text": [
            "\u001b[1m14/14\u001b[0m \u001b[32m━━━━━━━━━━━━━━━━━━━━\u001b[0m\u001b[37m\u001b[0m \u001b[1m2s\u001b[0m 30ms/step - accuracy: 0.4275 - loss: 0.5057 - val_accuracy: 0.6111 - val_loss: -0.3590\n",
            "Epoch 2/50\n",
            "\u001b[1m14/14\u001b[0m \u001b[32m━━━━━━━━━━━━━━━━━━━━\u001b[0m\u001b[37m\u001b[0m \u001b[1m0s\u001b[0m 4ms/step - accuracy: 0.5653 - loss: -0.7966 - val_accuracy: 0.6111 - val_loss: -1.3324\n",
            "Epoch 3/50\n",
            "\u001b[1m14/14\u001b[0m \u001b[32m━━━━━━━━━━━━━━━━━━━━\u001b[0m\u001b[37m\u001b[0m \u001b[1m0s\u001b[0m 4ms/step - accuracy: 0.5462 - loss: -2.1147 - val_accuracy: 0.6111 - val_loss: -2.5682\n",
            "Epoch 4/50\n",
            "\u001b[1m14/14\u001b[0m \u001b[32m━━━━━━━━━━━━━━━━━━━━\u001b[0m\u001b[37m\u001b[0m \u001b[1m0s\u001b[0m 4ms/step - accuracy: 0.5470 - loss: -4.1136 - val_accuracy: 0.6111 - val_loss: -4.4690\n",
            "Epoch 5/50\n",
            "\u001b[1m14/14\u001b[0m \u001b[32m━━━━━━━━━━━━━━━━━━━━\u001b[0m\u001b[37m\u001b[0m \u001b[1m0s\u001b[0m 4ms/step - accuracy: 0.5240 - loss: -7.2346 - val_accuracy: 0.6111 - val_loss: -7.5055\n",
            "Epoch 6/50\n",
            "\u001b[1m14/14\u001b[0m \u001b[32m━━━━━━━━━━━━━━━━━━━━\u001b[0m\u001b[37m\u001b[0m \u001b[1m0s\u001b[0m 5ms/step - accuracy: 0.5748 - loss: -10.9362 - val_accuracy: 0.6111 - val_loss: -12.1028\n",
            "Epoch 7/50\n",
            "\u001b[1m14/14\u001b[0m \u001b[32m━━━━━━━━━━━━━━━━━━━━\u001b[0m\u001b[37m\u001b[0m \u001b[1m0s\u001b[0m 5ms/step - accuracy: 0.5309 - loss: -20.3487 - val_accuracy: 0.6111 - val_loss: -19.4096\n",
            "Epoch 8/50\n",
            "\u001b[1m14/14\u001b[0m \u001b[32m━━━━━━━━━━━━━━━━━━━━\u001b[0m\u001b[37m\u001b[0m \u001b[1m0s\u001b[0m 4ms/step - accuracy: 0.5808 - loss: -29.4684 - val_accuracy: 0.6111 - val_loss: -29.8178\n",
            "Epoch 9/50\n",
            "\u001b[1m14/14\u001b[0m \u001b[32m━━━━━━━━━━━━━━━━━━━━\u001b[0m\u001b[37m\u001b[0m \u001b[1m0s\u001b[0m 5ms/step - accuracy: 0.5419 - loss: -49.6590 - val_accuracy: 0.6111 - val_loss: -44.5721\n",
            "Epoch 10/50\n",
            "\u001b[1m14/14\u001b[0m \u001b[32m━━━━━━━━━━━━━━━━━━━━\u001b[0m\u001b[37m\u001b[0m \u001b[1m0s\u001b[0m 7ms/step - accuracy: 0.5394 - loss: -76.6219 - val_accuracy: 0.6111 - val_loss: -64.7541\n",
            "Epoch 11/50\n",
            "\u001b[1m14/14\u001b[0m \u001b[32m━━━━━━━━━━━━━━━━━━━━\u001b[0m\u001b[37m\u001b[0m \u001b[1m0s\u001b[0m 5ms/step - accuracy: 0.5578 - loss: -109.3256 - val_accuracy: 0.6111 - val_loss: -90.4083\n",
            "Epoch 12/50\n",
            "\u001b[1m14/14\u001b[0m \u001b[32m━━━━━━━━━━━━━━━━━━━━\u001b[0m\u001b[37m\u001b[0m \u001b[1m0s\u001b[0m 4ms/step - accuracy: 0.5599 - loss: -138.3073 - val_accuracy: 0.6111 - val_loss: -123.3506\n",
            "Epoch 13/50\n",
            "\u001b[1m14/14\u001b[0m \u001b[32m━━━━━━━━━━━━━━━━━━━━\u001b[0m\u001b[37m\u001b[0m \u001b[1m0s\u001b[0m 5ms/step - accuracy: 0.5137 - loss: -216.8679 - val_accuracy: 0.6111 - val_loss: -164.5305\n",
            "Epoch 14/50\n",
            "\u001b[1m14/14\u001b[0m \u001b[32m━━━━━━━━━━━━━━━━━━━━\u001b[0m\u001b[37m\u001b[0m \u001b[1m0s\u001b[0m 5ms/step - accuracy: 0.5428 - loss: -285.0293 - val_accuracy: 0.6111 - val_loss: -214.2332\n",
            "Epoch 15/50\n",
            "\u001b[1m14/14\u001b[0m \u001b[32m━━━━━━━━━━━━━━━━━━━━\u001b[0m\u001b[37m\u001b[0m \u001b[1m0s\u001b[0m 5ms/step - accuracy: 0.5159 - loss: -367.9653 - val_accuracy: 0.6111 - val_loss: -272.4901\n",
            "Epoch 16/50\n",
            "\u001b[1m14/14\u001b[0m \u001b[32m━━━━━━━━━━━━━━━━━━━━\u001b[0m\u001b[37m\u001b[0m \u001b[1m0s\u001b[0m 4ms/step - accuracy: 0.5700 - loss: -430.4651 - val_accuracy: 0.6111 - val_loss: -343.0666\n",
            "Epoch 17/50\n",
            "\u001b[1m14/14\u001b[0m \u001b[32m━━━━━━━━━━━━━━━━━━━━\u001b[0m\u001b[37m\u001b[0m \u001b[1m0s\u001b[0m 4ms/step - accuracy: 0.5541 - loss: -550.6548 - val_accuracy: 0.6111 - val_loss: -421.2107\n",
            "Epoch 18/50\n",
            "\u001b[1m14/14\u001b[0m \u001b[32m━━━━━━━━━━━━━━━━━━━━\u001b[0m\u001b[37m\u001b[0m \u001b[1m0s\u001b[0m 5ms/step - accuracy: 0.5657 - loss: -643.1288 - val_accuracy: 0.6111 - val_loss: -510.4598\n",
            "Epoch 19/50\n",
            "\u001b[1m14/14\u001b[0m \u001b[32m━━━━━━━━━━━━━━━━━━━━\u001b[0m\u001b[37m\u001b[0m \u001b[1m0s\u001b[0m 5ms/step - accuracy: 0.5004 - loss: -820.6119 - val_accuracy: 0.6111 - val_loss: -615.0547\n",
            "Epoch 20/50\n",
            "\u001b[1m14/14\u001b[0m \u001b[32m━━━━━━━━━━━━━━━━━━━━\u001b[0m\u001b[37m\u001b[0m \u001b[1m0s\u001b[0m 4ms/step - accuracy: 0.5406 - loss: -1007.0553 - val_accuracy: 0.6111 - val_loss: -733.5764\n",
            "Epoch 21/50\n",
            "\u001b[1m14/14\u001b[0m \u001b[32m━━━━━━━━━━━━━━━━━━━━\u001b[0m\u001b[37m\u001b[0m \u001b[1m0s\u001b[0m 6ms/step - accuracy: 0.5400 - loss: -1161.3123 - val_accuracy: 0.6111 - val_loss: -864.7668\n",
            "Epoch 22/50\n",
            "\u001b[1m14/14\u001b[0m \u001b[32m━━━━━━━━━━━━━━━━━━━━\u001b[0m\u001b[37m\u001b[0m \u001b[1m0s\u001b[0m 6ms/step - accuracy: 0.5611 - loss: -1265.1853 - val_accuracy: 0.6111 - val_loss: -1013.0258\n",
            "Epoch 23/50\n",
            "\u001b[1m14/14\u001b[0m \u001b[32m━━━━━━━━━━━━━━━━━━━━\u001b[0m\u001b[37m\u001b[0m \u001b[1m0s\u001b[0m 5ms/step - accuracy: 0.5361 - loss: -1509.5729 - val_accuracy: 0.6111 - val_loss: -1173.3944\n",
            "Epoch 24/50\n",
            "\u001b[1m14/14\u001b[0m \u001b[32m━━━━━━━━━━━━━━━━━━━━\u001b[0m\u001b[37m\u001b[0m \u001b[1m0s\u001b[0m 4ms/step - accuracy: 0.6046 - loss: -1703.0739 - val_accuracy: 0.6111 - val_loss: -1350.7554\n",
            "Epoch 25/50\n",
            "\u001b[1m14/14\u001b[0m \u001b[32m━━━━━━━━━━━━━━━━━━━━\u001b[0m\u001b[37m\u001b[0m \u001b[1m0s\u001b[0m 4ms/step - accuracy: 0.5468 - loss: -2272.1729 - val_accuracy: 0.6111 - val_loss: -1555.6586\n",
            "Epoch 26/50\n",
            "\u001b[1m14/14\u001b[0m \u001b[32m━━━━━━━━━━━━━━━━━━━━\u001b[0m\u001b[37m\u001b[0m \u001b[1m0s\u001b[0m 4ms/step - accuracy: 0.5629 - loss: -2321.3757 - val_accuracy: 0.6111 - val_loss: -1771.0804\n",
            "Epoch 27/50\n",
            "\u001b[1m14/14\u001b[0m \u001b[32m━━━━━━━━━━━━━━━━━━━━\u001b[0m\u001b[37m\u001b[0m \u001b[1m0s\u001b[0m 5ms/step - accuracy: 0.5568 - loss: -2699.0813 - val_accuracy: 0.6111 - val_loss: -2011.4933\n",
            "Epoch 28/50\n",
            "\u001b[1m14/14\u001b[0m \u001b[32m━━━━━━━━━━━━━━━━━━━━\u001b[0m\u001b[37m\u001b[0m \u001b[1m0s\u001b[0m 5ms/step - accuracy: 0.5505 - loss: -3033.4485 - val_accuracy: 0.6111 - val_loss: -2255.8550\n",
            "Epoch 29/50\n",
            "\u001b[1m14/14\u001b[0m \u001b[32m━━━━━━━━━━━━━━━━━━━━\u001b[0m\u001b[37m\u001b[0m \u001b[1m0s\u001b[0m 6ms/step - accuracy: 0.5110 - loss: -3678.5630 - val_accuracy: 0.6111 - val_loss: -2531.5869\n",
            "Epoch 30/50\n",
            "\u001b[1m14/14\u001b[0m \u001b[32m━━━━━━━━━━━━━━━━━━━━\u001b[0m\u001b[37m\u001b[0m \u001b[1m0s\u001b[0m 5ms/step - accuracy: 0.5264 - loss: -3767.5688 - val_accuracy: 0.6111 - val_loss: -2817.3970\n",
            "Epoch 31/50\n",
            "\u001b[1m14/14\u001b[0m \u001b[32m━━━━━━━━━━━━━━━━━━━━\u001b[0m\u001b[37m\u001b[0m \u001b[1m0s\u001b[0m 4ms/step - accuracy: 0.5271 - loss: -4357.7505 - val_accuracy: 0.6111 - val_loss: -3136.7043\n",
            "Epoch 32/50\n",
            "\u001b[1m14/14\u001b[0m \u001b[32m━━━━━━━━━━━━━━━━━━━━\u001b[0m\u001b[37m\u001b[0m \u001b[1m0s\u001b[0m 4ms/step - accuracy: 0.5318 - loss: -5401.3428 - val_accuracy: 0.6111 - val_loss: -3477.1438\n",
            "Epoch 33/50\n",
            "\u001b[1m14/14\u001b[0m \u001b[32m━━━━━━━━━━━━━━━━━━━━\u001b[0m\u001b[37m\u001b[0m \u001b[1m0s\u001b[0m 4ms/step - accuracy: 0.5111 - loss: -5770.4683 - val_accuracy: 0.6111 - val_loss: -3830.5281\n",
            "Epoch 34/50\n",
            "\u001b[1m14/14\u001b[0m \u001b[32m━━━━━━━━━━━━━━━━━━━━\u001b[0m\u001b[37m\u001b[0m \u001b[1m0s\u001b[0m 5ms/step - accuracy: 0.5069 - loss: -6446.3813 - val_accuracy: 0.6111 - val_loss: -4215.2969\n",
            "Epoch 35/50\n",
            "\u001b[1m14/14\u001b[0m \u001b[32m━━━━━━━━━━━━━━━━━━━━\u001b[0m\u001b[37m\u001b[0m \u001b[1m0s\u001b[0m 5ms/step - accuracy: 0.5761 - loss: -6068.7983 - val_accuracy: 0.6111 - val_loss: -4600.1055\n",
            "Epoch 36/50\n",
            "\u001b[1m14/14\u001b[0m \u001b[32m━━━━━━━━━━━━━━━━━━━━\u001b[0m\u001b[37m\u001b[0m \u001b[1m0s\u001b[0m 4ms/step - accuracy: 0.5282 - loss: -7548.9102 - val_accuracy: 0.6111 - val_loss: -5035.1763\n",
            "Epoch 37/50\n",
            "\u001b[1m14/14\u001b[0m \u001b[32m━━━━━━━━━━━━━━━━━━━━\u001b[0m\u001b[37m\u001b[0m \u001b[1m0s\u001b[0m 5ms/step - accuracy: 0.5696 - loss: -7714.5503 - val_accuracy: 0.6111 - val_loss: -5465.3823\n",
            "Epoch 38/50\n",
            "\u001b[1m14/14\u001b[0m \u001b[32m━━━━━━━━━━━━━━━━━━━━\u001b[0m\u001b[37m\u001b[0m \u001b[1m0s\u001b[0m 6ms/step - accuracy: 0.5046 - loss: -9330.4639 - val_accuracy: 0.6111 - val_loss: -5958.0801\n",
            "Epoch 39/50\n",
            "\u001b[1m14/14\u001b[0m \u001b[32m━━━━━━━━━━━━━━━━━━━━\u001b[0m\u001b[37m\u001b[0m \u001b[1m0s\u001b[0m 4ms/step - accuracy: 0.5599 - loss: -9165.7578 - val_accuracy: 0.6111 - val_loss: -6464.0815\n",
            "Epoch 40/50\n",
            "\u001b[1m14/14\u001b[0m \u001b[32m━━━━━━━━━━━━━━━━━━━━\u001b[0m\u001b[37m\u001b[0m \u001b[1m0s\u001b[0m 5ms/step - accuracy: 0.5945 - loss: -9102.6758 - val_accuracy: 0.6111 - val_loss: -6999.4932\n",
            "Epoch 41/50\n",
            "\u001b[1m14/14\u001b[0m \u001b[32m━━━━━━━━━━━━━━━━━━━━\u001b[0m\u001b[37m\u001b[0m \u001b[1m0s\u001b[0m 4ms/step - accuracy: 0.5262 - loss: -11790.7012 - val_accuracy: 0.6111 - val_loss: -7581.9116\n",
            "Epoch 42/50\n",
            "\u001b[1m14/14\u001b[0m \u001b[32m━━━━━━━━━━━━━━━━━━━━\u001b[0m\u001b[37m\u001b[0m \u001b[1m0s\u001b[0m 5ms/step - accuracy: 0.5184 - loss: -11411.9023 - val_accuracy: 0.6111 - val_loss: -8154.4810\n",
            "Epoch 43/50\n",
            "\u001b[1m14/14\u001b[0m \u001b[32m━━━━━━━━━━━━━━━━━━━━\u001b[0m\u001b[37m\u001b[0m \u001b[1m0s\u001b[0m 5ms/step - accuracy: 0.5381 - loss: -12423.8447 - val_accuracy: 0.6111 - val_loss: -8775.9307\n",
            "Epoch 44/50\n",
            "\u001b[1m14/14\u001b[0m \u001b[32m━━━━━━━━━━━━━━━━━━━━\u001b[0m\u001b[37m\u001b[0m \u001b[1m0s\u001b[0m 5ms/step - accuracy: 0.5183 - loss: -13677.7715 - val_accuracy: 0.6111 - val_loss: -9425.6807\n",
            "Epoch 45/50\n",
            "\u001b[1m14/14\u001b[0m \u001b[32m━━━━━━━━━━━━━━━━━━━━\u001b[0m\u001b[37m\u001b[0m \u001b[1m0s\u001b[0m 5ms/step - accuracy: 0.5747 - loss: -13730.7334 - val_accuracy: 0.6111 - val_loss: -10087.7900\n",
            "Epoch 46/50\n",
            "\u001b[1m14/14\u001b[0m \u001b[32m━━━━━━━━━━━━━━━━━━━━\u001b[0m\u001b[37m\u001b[0m \u001b[1m0s\u001b[0m 6ms/step - accuracy: 0.5100 - loss: -17616.8633 - val_accuracy: 0.6111 - val_loss: -10818.7588\n",
            "Epoch 47/50\n",
            "\u001b[1m14/14\u001b[0m \u001b[32m━━━━━━━━━━━━━━━━━━━━\u001b[0m\u001b[37m\u001b[0m \u001b[1m0s\u001b[0m 5ms/step - accuracy: 0.5752 - loss: -16033.7090 - val_accuracy: 0.6111 - val_loss: -11555.6504\n",
            "Epoch 48/50\n",
            "\u001b[1m14/14\u001b[0m \u001b[32m━━━━━━━━━━━━━━━━━━━━\u001b[0m\u001b[37m\u001b[0m \u001b[1m0s\u001b[0m 4ms/step - accuracy: 0.5375 - loss: -18320.6133 - val_accuracy: 0.6111 - val_loss: -12348.8584\n",
            "Epoch 49/50\n",
            "\u001b[1m14/14\u001b[0m \u001b[32m━━━━━━━━━━━━━━━━━━━━\u001b[0m\u001b[37m\u001b[0m \u001b[1m0s\u001b[0m 4ms/step - accuracy: 0.5309 - loss: -20386.6934 - val_accuracy: 0.6111 - val_loss: -13151.1387\n",
            "Epoch 50/50\n",
            "\u001b[1m14/14\u001b[0m \u001b[32m━━━━━━━━━━━━━━━━━━━━\u001b[0m\u001b[37m\u001b[0m \u001b[1m0s\u001b[0m 6ms/step - accuracy: 0.5734 - loss: -19610.9512 - val_accuracy: 0.6111 - val_loss: -13969.9912\n",
            "\u001b[1m2/2\u001b[0m \u001b[32m━━━━━━━━━━━━━━━━━━━━\u001b[0m\u001b[37m\u001b[0m \u001b[1m0s\u001b[0m 37ms/step\n",
            "\n",
            "Deep Learning MLP Model Results on heart.dat dataset:\n",
            "Accuracy: 0.6111111111111112\n",
            "Classification Report:\n",
            "               precision    recall  f1-score   support\n",
            "\n",
            "           1       0.61      1.00      0.76        33\n",
            "           2       0.00      0.00      0.00        21\n",
            "\n",
            "    accuracy                           0.61        54\n",
            "   macro avg       0.31      0.50      0.38        54\n",
            "weighted avg       0.37      0.61      0.46        54\n",
            "\n"
          ]
        },
        {
          "output_type": "stream",
          "name": "stderr",
          "text": [
            "/usr/local/lib/python3.10/dist-packages/sklearn/metrics/_classification.py:1531: UndefinedMetricWarning: Precision is ill-defined and being set to 0.0 in labels with no predicted samples. Use `zero_division` parameter to control this behavior.\n",
            "  _warn_prf(average, modifier, f\"{metric.capitalize()} is\", len(result))\n",
            "/usr/local/lib/python3.10/dist-packages/sklearn/metrics/_classification.py:1531: UndefinedMetricWarning: Precision is ill-defined and being set to 0.0 in labels with no predicted samples. Use `zero_division` parameter to control this behavior.\n",
            "  _warn_prf(average, modifier, f\"{metric.capitalize()} is\", len(result))\n",
            "/usr/local/lib/python3.10/dist-packages/sklearn/metrics/_classification.py:1531: UndefinedMetricWarning: Precision is ill-defined and being set to 0.0 in labels with no predicted samples. Use `zero_division` parameter to control this behavior.\n",
            "  _warn_prf(average, modifier, f\"{metric.capitalize()} is\", len(result))\n"
          ]
        }
      ]
    },
    {
      "cell_type": "markdown",
      "source": [
        "SVM Training and Evaluation"
      ],
      "metadata": {
        "id": "fZYlK68VsuzE"
      }
    },
    {
      "cell_type": "code",
      "source": [
        "# Import necessary libraries\n",
        "from sklearn.svm import SVC\n",
        "from sklearn.metrics import accuracy_score, classification_report\n",
        "from sklearn.model_selection import train_test_split\n",
        "from sklearn.preprocessing import StandardScaler\n",
        "import pandas as pd\n",
        "\n",
        "# Load heart.csv dataset\n",
        "heart_csv = pd.read_csv('/content/drive/My Drive/ML_Project/heart.csv')\n",
        "X_csv = heart_csv.drop(columns=['target'])  # Features\n",
        "y_csv = heart_csv['target']  # Target\n",
        "\n",
        "# Standardize the features for heart.csv\n",
        "scaler_csv = StandardScaler()\n",
        "X_csv = scaler_csv.fit_transform(X_csv)\n",
        "\n",
        "# Split dataset into training and testing sets for heart.csv\n",
        "X_csv_train, X_csv_test, y_csv_train, y_csv_test = train_test_split(X_csv, y_csv, test_size=0.2, random_state=42)\n",
        "\n",
        "# Train SVM on heart.csv dataset\n",
        "svm_csv = SVC(kernel='rbf', C=1.0, gamma='scale', random_state=42)  # RBF kernel\n",
        "svm_csv.fit(X_csv_train, y_csv_train)\n",
        "y_csv_svm_pred = svm_csv.predict(X_csv_test)\n",
        "\n",
        "# Evaluate the SVM model on heart.csv\n",
        "print(\"\\nSVM Results on heart.csv dataset:\")\n",
        "print(\"Accuracy:\", accuracy_score(y_csv_test, y_csv_svm_pred))\n",
        "print(\"Classification Report:\\n\", classification_report(y_csv_test, y_csv_svm_pred))\n",
        "\n",
        "\n",
        "# Load heart.dat dataset\n",
        "columns = ['age', 'sex', 'cp', 'trestbps', 'chol', 'fbs', 'restecg', 'thalach', 'exang', 'oldpeak', 'slope', 'ca', 'thal', 'target']\n",
        "heart_dat = pd.read_csv('/content/drive/My Drive/ML_Project/heart.dat', sep='\\s+', header=None, names=columns)\n",
        "X_dat = heart_dat.drop(columns=['target'])  # Features\n",
        "y_dat = heart_dat['target']  # Target\n",
        "\n",
        "# Standardize the features for heart.dat\n",
        "scaler_dat = StandardScaler()\n",
        "X_dat = scaler_dat.fit_transform(X_dat)\n",
        "\n",
        "# Split dataset into training and testing sets for heart.dat\n",
        "X_dat_train, X_dat_test, y_dat_train, y_dat_test = train_test_split(X_dat, y_dat, test_size=0.2, random_state=42)\n",
        "\n",
        "# Train SVM on heart.dat dataset\n",
        "svm_dat = SVC(kernel='rbf', C=1.0, gamma='scale', random_state=42)  # RBF kernel\n",
        "svm_dat.fit(X_dat_train, y_dat_train)\n",
        "y_dat_svm_pred = svm_dat.predict(X_dat_test)\n",
        "\n",
        "# Evaluate the SVM model on heart.dat\n",
        "print(\"\\nSVM Results on heart.dat dataset:\")\n",
        "print(\"Accuracy:\", accuracy_score(y_dat_test, y_dat_svm_pred))\n",
        "print(\"Classification Report:\\n\", classification_report(y_dat_test, y_dat_svm_pred))\n"
      ],
      "metadata": {
        "colab": {
          "base_uri": "https://localhost:8080/"
        },
        "id": "zbnC1-WMvK5-",
        "outputId": "7dffafcf-0c18-488a-aef1-98d157df20bc"
      },
      "execution_count": null,
      "outputs": [
        {
          "output_type": "stream",
          "name": "stdout",
          "text": [
            "\n",
            "SVM Results on heart.csv dataset:\n",
            "Accuracy: 0.8878048780487805\n",
            "Classification Report:\n",
            "               precision    recall  f1-score   support\n",
            "\n",
            "           0       0.93      0.83      0.88       102\n",
            "           1       0.85      0.94      0.89       103\n",
            "\n",
            "    accuracy                           0.89       205\n",
            "   macro avg       0.89      0.89      0.89       205\n",
            "weighted avg       0.89      0.89      0.89       205\n",
            "\n",
            "\n",
            "SVM Results on heart.dat dataset:\n",
            "Accuracy: 0.8888888888888888\n",
            "Classification Report:\n",
            "               precision    recall  f1-score   support\n",
            "\n",
            "           1       0.89      0.94      0.91        33\n",
            "           2       0.89      0.81      0.85        21\n",
            "\n",
            "    accuracy                           0.89        54\n",
            "   macro avg       0.89      0.87      0.88        54\n",
            "weighted avg       0.89      0.89      0.89        54\n",
            "\n"
          ]
        }
      ]
    },
    {
      "cell_type": "markdown",
      "source": [
        "flowchart for heart.csv"
      ],
      "metadata": {
        "id": "o8JGUulP_FH-"
      }
    },
    {
      "cell_type": "code",
      "source": [
        "\n",
        "from graphviz import Digraph\n",
        "\n",
        "# Define the flowchart for heart.csv preprocessing\n",
        "dot_csv = Digraph()\n",
        "dot_csv.node(\"A\", \"Raw Data (heart.csv)\")\n",
        "dot_csv.node(\"B\", \"Encoded\")\n",
        "dot_csv.node(\"C\", \"Standardized\")\n",
        "dot_csv.node(\"D\", \"Train-Test Split\")\n",
        "dot_csv.edges([\"AB\", \"BC\", \"CD\"])\n",
        "\n",
        "# Save the flowchart locally\n",
        "csv_save_path = \"heart_csv_preprocessing.png\"\n",
        "dot_csv.render(csv_save_path[:-4], format=\"png\", cleanup=True)\n",
        "print(f\"Flowchart for heart.csv saved locally at {csv_save_path}\")\n",
        "\n",
        "from google.colab import files\n",
        "files.download(\"heart_csv_preprocessing.png\")\n"
      ],
      "metadata": {
        "colab": {
          "base_uri": "https://localhost:8080/",
          "height": 34
        },
        "id": "Mv7OPX90_FgR",
        "outputId": "74385036-a68b-4fe8-945d-009a1ebea150"
      },
      "execution_count": 13,
      "outputs": [
        {
          "output_type": "stream",
          "name": "stdout",
          "text": [
            "Flowchart for heart.csv saved locally at heart_csv_preprocessing.png\n"
          ]
        },
        {
          "output_type": "display_data",
          "data": {
            "text/plain": [
              "<IPython.core.display.Javascript object>"
            ],
            "application/javascript": [
              "\n",
              "    async function download(id, filename, size) {\n",
              "      if (!google.colab.kernel.accessAllowed) {\n",
              "        return;\n",
              "      }\n",
              "      const div = document.createElement('div');\n",
              "      const label = document.createElement('label');\n",
              "      label.textContent = `Downloading \"${filename}\": `;\n",
              "      div.appendChild(label);\n",
              "      const progress = document.createElement('progress');\n",
              "      progress.max = size;\n",
              "      div.appendChild(progress);\n",
              "      document.body.appendChild(div);\n",
              "\n",
              "      const buffers = [];\n",
              "      let downloaded = 0;\n",
              "\n",
              "      const channel = await google.colab.kernel.comms.open(id);\n",
              "      // Send a message to notify the kernel that we're ready.\n",
              "      channel.send({})\n",
              "\n",
              "      for await (const message of channel.messages) {\n",
              "        // Send a message to notify the kernel that we're ready.\n",
              "        channel.send({})\n",
              "        if (message.buffers) {\n",
              "          for (const buffer of message.buffers) {\n",
              "            buffers.push(buffer);\n",
              "            downloaded += buffer.byteLength;\n",
              "            progress.value = downloaded;\n",
              "          }\n",
              "        }\n",
              "      }\n",
              "      const blob = new Blob(buffers, {type: 'application/binary'});\n",
              "      const a = document.createElement('a');\n",
              "      a.href = window.URL.createObjectURL(blob);\n",
              "      a.download = filename;\n",
              "      div.appendChild(a);\n",
              "      a.click();\n",
              "      div.remove();\n",
              "    }\n",
              "  "
            ]
          },
          "metadata": {}
        },
        {
          "output_type": "display_data",
          "data": {
            "text/plain": [
              "<IPython.core.display.Javascript object>"
            ],
            "application/javascript": [
              "download(\"download_48ba7a28-5569-4309-a2e6-3442fb77cfae\", \"heart_csv_preprocessing.png\", 20811)"
            ]
          },
          "metadata": {}
        }
      ]
    },
    {
      "cell_type": "markdown",
      "source": [
        "flowchart for heart.dat"
      ],
      "metadata": {
        "id": "YkB10adLA0Ip"
      }
    },
    {
      "cell_type": "code",
      "source": [
        "from graphviz import Digraph\n",
        "from google.colab import files\n",
        "\n",
        "# Define the flowchart for heart.dat preprocessing\n",
        "dot_dat = Digraph()\n",
        "dot_dat.node(\"A\", \"Raw Data (heart.dat)\")\n",
        "dot_dat.node(\"B\", \"Encoded\")\n",
        "dot_dat.node(\"C\", \"Standardized\")\n",
        "dot_dat.node(\"D\", \"Train-Test Split\")\n",
        "dot_dat.edges([\"AB\", \"BC\", \"CD\"])\n",
        "\n",
        "# Save the flowchart locally\n",
        "dat_save_path = \"heart_dat_preprocessing.png\"\n",
        "dot_dat.render(dat_save_path[:-4], format=\"png\", cleanup=True)\n",
        "print(f\"Flowchart for heart.dat saved locally at {dat_save_path}\")\n",
        "\n",
        "# Download the flowchart\n",
        "files.download(dat_save_path)\n",
        "\n"
      ],
      "metadata": {
        "colab": {
          "base_uri": "https://localhost:8080/",
          "height": 34
        },
        "id": "Tt5UMwiwA0e-",
        "outputId": "7c7b3194-5147-4e70-8480-f3d182c8d77e"
      },
      "execution_count": 14,
      "outputs": [
        {
          "output_type": "stream",
          "name": "stdout",
          "text": [
            "Flowchart for heart.dat saved locally at heart_dat_preprocessing.png\n"
          ]
        },
        {
          "output_type": "display_data",
          "data": {
            "text/plain": [
              "<IPython.core.display.Javascript object>"
            ],
            "application/javascript": [
              "\n",
              "    async function download(id, filename, size) {\n",
              "      if (!google.colab.kernel.accessAllowed) {\n",
              "        return;\n",
              "      }\n",
              "      const div = document.createElement('div');\n",
              "      const label = document.createElement('label');\n",
              "      label.textContent = `Downloading \"${filename}\": `;\n",
              "      div.appendChild(label);\n",
              "      const progress = document.createElement('progress');\n",
              "      progress.max = size;\n",
              "      div.appendChild(progress);\n",
              "      document.body.appendChild(div);\n",
              "\n",
              "      const buffers = [];\n",
              "      let downloaded = 0;\n",
              "\n",
              "      const channel = await google.colab.kernel.comms.open(id);\n",
              "      // Send a message to notify the kernel that we're ready.\n",
              "      channel.send({})\n",
              "\n",
              "      for await (const message of channel.messages) {\n",
              "        // Send a message to notify the kernel that we're ready.\n",
              "        channel.send({})\n",
              "        if (message.buffers) {\n",
              "          for (const buffer of message.buffers) {\n",
              "            buffers.push(buffer);\n",
              "            downloaded += buffer.byteLength;\n",
              "            progress.value = downloaded;\n",
              "          }\n",
              "        }\n",
              "      }\n",
              "      const blob = new Blob(buffers, {type: 'application/binary'});\n",
              "      const a = document.createElement('a');\n",
              "      a.href = window.URL.createObjectURL(blob);\n",
              "      a.download = filename;\n",
              "      div.appendChild(a);\n",
              "      a.click();\n",
              "      div.remove();\n",
              "    }\n",
              "  "
            ]
          },
          "metadata": {}
        },
        {
          "output_type": "display_data",
          "data": {
            "text/plain": [
              "<IPython.core.display.Javascript object>"
            ],
            "application/javascript": [
              "download(\"download_a96c46c1-b215-4286-bb65-9f623aba25e5\", \"heart_dat_preprocessing.png\", 20617)"
            ]
          },
          "metadata": {}
        }
      ]
    },
    {
      "cell_type": "markdown",
      "source": [
        "integrated flowchart for both datasets"
      ],
      "metadata": {
        "id": "pkXB6X9oA1Fd"
      }
    },
    {
      "cell_type": "code",
      "source": [
        "from graphviz import Digraph\n",
        "from google.colab import files\n",
        "\n",
        "# Define the integrated flowchart\n",
        "dot_integrated = Digraph()\n",
        "dot_integrated.node(\"A\", \"Raw Data (heart.csv, heart.dat)\")\n",
        "dot_integrated.node(\"B1\", \"Encoded (heart.csv)\")\n",
        "dot_integrated.node(\"B2\", \"Encoded (heart.dat)\")\n",
        "dot_integrated.node(\"C1\", \"Standardized (heart.csv)\")\n",
        "dot_integrated.node(\"C2\", \"Standardized (heart.dat)\")\n",
        "dot_integrated.node(\"D1\", \"Train-Test Split (heart.csv)\")\n",
        "dot_integrated.node(\"D2\", \"Train-Test Split (heart.dat)\")\n",
        "\n",
        "# Connect nodes for heart.csv\n",
        "dot_integrated.edge(\"A\", \"B1\")\n",
        "dot_integrated.edge(\"B1\", \"C1\")\n",
        "dot_integrated.edge(\"C1\", \"D1\")\n",
        "\n",
        "# Connect nodes for heart.dat\n",
        "dot_integrated.edge(\"A\", \"B2\")\n",
        "dot_integrated.edge(\"B2\", \"C2\")\n",
        "dot_integrated.edge(\"C2\", \"D2\")\n",
        "\n",
        "# Save the integrated flowchart locally\n",
        "integrated_save_path = \"integrated_preprocessing.png\"\n",
        "dot_integrated.render(integrated_save_path[:-4], format=\"png\", cleanup=True)\n",
        "print(f\"Integrated flowchart saved locally at {integrated_save_path}\")\n",
        "\n",
        "# Download the flowchart\n",
        "files.download(integrated_save_path)\n",
        "\n",
        "\n"
      ],
      "metadata": {
        "colab": {
          "base_uri": "https://localhost:8080/",
          "height": 34
        },
        "id": "uqyBbuZhA1en",
        "outputId": "0bef0edf-4329-4d6c-ea95-afb06b2de209"
      },
      "execution_count": 16,
      "outputs": [
        {
          "output_type": "stream",
          "name": "stdout",
          "text": [
            "Integrated flowchart saved locally at integrated_preprocessing.png\n"
          ]
        },
        {
          "output_type": "display_data",
          "data": {
            "text/plain": [
              "<IPython.core.display.Javascript object>"
            ],
            "application/javascript": [
              "\n",
              "    async function download(id, filename, size) {\n",
              "      if (!google.colab.kernel.accessAllowed) {\n",
              "        return;\n",
              "      }\n",
              "      const div = document.createElement('div');\n",
              "      const label = document.createElement('label');\n",
              "      label.textContent = `Downloading \"${filename}\": `;\n",
              "      div.appendChild(label);\n",
              "      const progress = document.createElement('progress');\n",
              "      progress.max = size;\n",
              "      div.appendChild(progress);\n",
              "      document.body.appendChild(div);\n",
              "\n",
              "      const buffers = [];\n",
              "      let downloaded = 0;\n",
              "\n",
              "      const channel = await google.colab.kernel.comms.open(id);\n",
              "      // Send a message to notify the kernel that we're ready.\n",
              "      channel.send({})\n",
              "\n",
              "      for await (const message of channel.messages) {\n",
              "        // Send a message to notify the kernel that we're ready.\n",
              "        channel.send({})\n",
              "        if (message.buffers) {\n",
              "          for (const buffer of message.buffers) {\n",
              "            buffers.push(buffer);\n",
              "            downloaded += buffer.byteLength;\n",
              "            progress.value = downloaded;\n",
              "          }\n",
              "        }\n",
              "      }\n",
              "      const blob = new Blob(buffers, {type: 'application/binary'});\n",
              "      const a = document.createElement('a');\n",
              "      a.href = window.URL.createObjectURL(blob);\n",
              "      a.download = filename;\n",
              "      div.appendChild(a);\n",
              "      a.click();\n",
              "      div.remove();\n",
              "    }\n",
              "  "
            ]
          },
          "metadata": {}
        },
        {
          "output_type": "display_data",
          "data": {
            "text/plain": [
              "<IPython.core.display.Javascript object>"
            ],
            "application/javascript": [
              "download(\"download_4532d4cb-7aca-489c-9ed1-c962b7585978\", \"integrated_preprocessing.png\", 41980)"
            ]
          },
          "metadata": {}
        }
      ]
    },
    {
      "cell_type": "markdown",
      "source": [
        "Feature Importance Comparison"
      ],
      "metadata": {
        "id": "eZ55hCPhQI9T"
      }
    },
    {
      "cell_type": "code",
      "source": [
        "import matplotlib.pyplot as plt\n",
        "import numpy as np\n",
        "\n",
        "# Feature importance (Assuming rf_csv and rf_dat models are already trained)\n",
        "csv_feature_importances = rf_csv.feature_importances_  # Feature importance from heart.csv model\n",
        "dat_feature_importances = rf_dat.feature_importances_  # Feature importance from heart.dat model\n",
        "\n",
        "# Features (Assuming preprocessed feature names are already available)\n",
        "csv_features = heart_csv.drop(columns=['target']).columns  # Features of heart.csv dataset\n",
        "dat_features = heart_dat.drop(columns=['target']).columns  # Features of heart.dat dataset\n",
        "\n",
        "# Create subplots for side-by-side comparison\n",
        "fig, axs = plt.subplots(1, 2, figsize=(15, 6))\n",
        "\n",
        "# Plot feature importance for heart.csv\n",
        "axs[0].barh(csv_features, csv_feature_importances, color='skyblue')  # Horizontal bar chart\n",
        "axs[0].set_title('Feature Importance - heart.csv Dataset')  # Title for heart.csv chart\n",
        "axs[0].set_xlabel('Importance Score')  # Label for X-axis\n",
        "axs[0].set_ylabel('Features')  # Label for Y-axis\n",
        "\n",
        "# Plot feature importance for heart.dat\n",
        "axs[1].barh(dat_features, dat_feature_importances, color='lightcoral')  # Horizontal bar chart\n",
        "axs[1].set_title('Feature Importance - heart.dat Dataset')  # Title for heart.dat chart\n",
        "axs[1].set_xlabel('Importance Score')  # Label for X-axis\n",
        "axs[1].set_ylabel('Features')  # Label for Y-axis\n",
        "\n",
        "# Adjust layout for better appearance\n",
        "plt.tight_layout()\n",
        "\n",
        "# Save the combined feature importance chart locally\n",
        "plt.savefig('combined_feature_importance.png')  # Save as PNG file\n",
        "plt.show()  # Display the chart\n",
        "\n"
      ],
      "metadata": {
        "colab": {
          "base_uri": "https://localhost:8080/",
          "height": 475
        },
        "id": "C11bdsQzQoBW",
        "outputId": "e7051aae-4fa1-4c65-86c0-da1423ef9d48"
      },
      "execution_count": 5,
      "outputs": [
        {
          "output_type": "display_data",
          "data": {
            "text/plain": [
              "<Figure size 1500x600 with 2 Axes>"
            ],
            "image/png": "[encoded data removed]"
          },
          "metadata": {}
        }
      ]
    },
    {
      "cell_type": "markdown",
      "source": [
        "Baseline Results Analysis : Performance Comparison"
      ],
      "metadata": {
        "id": "MmrfEZHd6Td5"
      }
    },
    {
      "cell_type": "code",
      "source": [
        "import matplotlib.pyplot as plt\n",
        "\n",
        "# Baseline accuracies\n",
        "datasets = ['heart.csv', 'heart.dat']\n",
        "accuracies = [98.54, 79.63]  # Replace with your actual accuracy values\n",
        "\n",
        "# Plot bar chart\n",
        "plt.figure(figsize=(8, 5))\n",
        "plt.bar(datasets, accuracies, color=['skyblue', 'lightcoral'])\n",
        "plt.title('Baseline Model Accuracy Comparison')\n",
        "plt.ylabel('Accuracy (%)')\n",
        "plt.ylim(0, 100)\n",
        "plt.text(0, accuracies[0] + 1, f\"{accuracies[0]}%\", ha='center')\n",
        "plt.text(1, accuracies[1] + 1, f\"{accuracies[1]}%\", ha='center')\n",
        "plt.tight_layout()\n",
        "plt.savefig(\"baseline_accuracy_comparison.png\")\n",
        "plt.show()\n"
      ],
      "metadata": {
        "colab": {
          "base_uri": "https://localhost:8080/",
          "height": 507
        },
        "id": "4OfuEryL6U9C",
        "outputId": "4395e076-1356-480b-9003-44a02333e812"
      },
      "execution_count": 6,
      "outputs": [
        {
          "output_type": "display_data",
          "data": {
            "text/plain": [
              "<Figure size 800x500 with 1 Axes>"
            ],
            "image/png": "[encoded data removed]"
          },
          "metadata": {}
        }
      ]
    },
    {
      "cell_type": "markdown",
      "source": [
        "Model Performance Comparison"
      ],
      "metadata": {
        "id": "oRRZaRThzSDT"
      }
    },
    {
      "cell_type": "code",
      "source": [
        "import matplotlib.pyplot as plt\n",
        "import numpy as np\n",
        "\n",
        "# Data for bar chart\n",
        "datasets = ['heart.csv', 'heart.dat']\n",
        "baseline_accuracies = [98.54, 79.63]\n",
        "optimized_accuracies = [98.54, 83.33]\n",
        "\n",
        "x = np.arange(len(datasets))  # Label locations\n",
        "width = 0.35  # Bar width\n",
        "\n",
        "# Create the bar chart\n",
        "fig, ax = plt.subplots(figsize=(8, 6))\n",
        "bars1 = ax.bar(x - width/2, baseline_accuracies, width, label='Baseline Accuracy', color='skyblue')\n",
        "bars2 = ax.bar(x + width/2, optimized_accuracies, width, label='Optimized Accuracy', color='coral')\n",
        "\n",
        "# Add labels and title\n",
        "ax.set_xlabel('Dataset')\n",
        "ax.set_ylabel('Accuracy (%)')\n",
        "ax.set_title('Baseline vs Optimized Accuracy')\n",
        "ax.set_xticks(x)\n",
        "ax.set_xticklabels(datasets)\n",
        "ax.legend()\n",
        "\n",
        "# Add values above the bars\n",
        "for bars in [bars1, bars2]:\n",
        "    ax.bar_label(bars, fmt='%.2f', padding=3)\n",
        "\n",
        "plt.tight_layout()\n",
        "plt.savefig(\"model_comparison_accuracy.png\")\n",
        "plt.show()\n"
      ],
      "metadata": {
        "colab": {
          "base_uri": "https://localhost:8080/",
          "height": 607
        },
        "id": "HA8GT1mLzTEM",
        "outputId": "42929c1c-293f-4ef8-f827-085228069040"
      },
      "execution_count": 1,
      "outputs": [
        {
          "output_type": "display_data",
          "data": {
            "text/plain": [
              "<Figure size 800x600 with 1 Axes>"
            ],
            "image/png": "[encoded data removed]"
          },
          "metadata": {}
        }
      ]
    },
    {
      "cell_type": "markdown",
      "source": [
        "Confusion Matrix"
      ],
      "metadata": {
        "id": "7fTOOVar33yZ"
      }
    },
    {
      "cell_type": "code",
      "source": [
        "import matplotlib.pyplot as plt\n",
        "from sklearn.metrics import ConfusionMatrixDisplay\n",
        "\n",
        "# Plot confusion matrix for heart.csv\n",
        "ConfusionMatrixDisplay.from_estimator(rf_csv, X_csv_test, y_csv_test, cmap=\"Blues\")\n",
        "plt.title(\"Confusion Matrix - heart.csv\")\n",
        "plt.savefig(\"confusion_matrix_csv.png\")\n",
        "plt.show()\n",
        "\n",
        "# Plot confusion matrix for heart.dat\n",
        "ConfusionMatrixDisplay.from_estimator(rf_dat, X_dat_test, y_dat_test, cmap=\"Reds\")\n",
        "plt.title(\"Confusion Matrix - heart.dat\")\n",
        "plt.savefig(\"confusion_matrix_dat.png\")\n",
        "plt.show()\n"
      ],
      "metadata": {
        "colab": {
          "base_uri": "https://localhost:8080/",
          "height": 211
        },
        "id": "J2B5n51N34ig",
        "outputId": "75f63a6f-d088-4d17-eb90-d3d9b8e3e867"
      },
      "execution_count": 2,
      "outputs": [
        {
          "output_type": "error",
          "ename": "NameError",
          "evalue": "name 'rf_csv' is not defined",
          "traceback": [
            "\u001b[0;31m---------------------------------------------------------------------------\u001b[0m",
            "\u001b[0;31mNameError\u001b[0m                                 Traceback (most recent call last)",
            "\u001b[0;32m<ipython-input-2-63830aa10af3>\u001b[0m in \u001b[0;36m<cell line: 5>\u001b[0;34m()\u001b[0m\n\u001b[1;32m      3\u001b[0m \u001b[0;34m\u001b[0m\u001b[0m\n\u001b[1;32m      4\u001b[0m \u001b[0;31m# Plot confusion matrix for heart.csv\u001b[0m\u001b[0;34m\u001b[0m\u001b[0;34m\u001b[0m\u001b[0m\n\u001b[0;32m----> 5\u001b[0;31m \u001b[0mConfusionMatrixDisplay\u001b[0m\u001b[0;34m.\u001b[0m\u001b[0mfrom_estimator\u001b[0m\u001b[0;34m(\u001b[0m\u001b[0mrf_csv\u001b[0m\u001b[0;34m,\u001b[0m \u001b[0mX_csv_test\u001b[0m\u001b[0;34m,\u001b[0m \u001b[0my_csv_test\u001b[0m\u001b[0;34m,\u001b[0m \u001b[0mcmap\u001b[0m\u001b[0;34m=\u001b[0m\u001b[0;34m\"Blues\"\u001b[0m\u001b[0;34m)\u001b[0m\u001b[0;34m\u001b[0m\u001b[0;34m\u001b[0m\u001b[0m\n\u001b[0m\u001b[1;32m      6\u001b[0m \u001b[0mplt\u001b[0m\u001b[0;34m.\u001b[0m\u001b[0mtitle\u001b[0m\u001b[0;34m(\u001b[0m\u001b[0;34m\"Confusion Matrix - heart.csv\"\u001b[0m\u001b[0;34m)\u001b[0m\u001b[0;34m\u001b[0m\u001b[0;34m\u001b[0m\u001b[0m\n\u001b[1;32m      7\u001b[0m \u001b[0mplt\u001b[0m\u001b[0;34m.\u001b[0m\u001b[0msavefig\u001b[0m\u001b[0;34m(\u001b[0m\u001b[0;34m\"confusion_matrix_csv.png\"\u001b[0m\u001b[0;34m)\u001b[0m\u001b[0;34m\u001b[0m\u001b[0;34m\u001b[0m\u001b[0m\n",
            "\u001b[0;31mNameError\u001b[0m: name 'rf_csv' is not defined"
          ]
        }
      ]
    },
    {
      "cell_type": "markdown",
      "source": [
        "Data Distribution Visualization"
      ],
      "metadata": {
        "id": "muBWQbtY3617"
      }
    },
    {
      "cell_type": "code",
      "source": [
        "# Visualize class distribution for heart.dat\n",
        "import seaborn as sns\n",
        "\n",
        "plt.figure(figsize=(8, 6))\n",
        "sns.countplot(x=y_dat, palette=\"Reds\")\n",
        "plt.title(\"Class Distribution - heart.dat\")\n",
        "plt.xlabel(\"Class\")\n",
        "plt.ylabel(\"Frequency\")\n",
        "plt.savefig(\"class_distribution_dat.png\")\n",
        "plt.show()\n"
      ],
      "metadata": {
        "id": "04YPx3bs4IJb"
      },
      "execution_count": null,
      "outputs": []
    },
    {
      "cell_type": "markdown",
      "source": [
        "bar chart"
      ],
      "metadata": {
        "id": "pqsHH9cmOiNa"
      }
    },
    {
      "cell_type": "code",
      "source": [
        "import matplotlib.pyplot as plt\n",
        "import numpy as np\n",
        "\n",
        "# Data for heart.csv and heart.dat datasets\n",
        "metrics = ['Precision', 'Recall', 'F1-Score', 'Accuracy']\n",
        "csv_values = [0.99, 0.99, 0.99, 0.9854]  # heart.csv dataset\n",
        "dat_values = [0.31, 0.50, 0.38, 0.6111]  # heart.dat dataset\n",
        "\n",
        "# Create a bar chart\n",
        "x = np.arange(len(metrics))  # Label locations\n",
        "width = 0.35  # Bar width\n",
        "\n",
        "fig, ax = plt.subplots(figsize=(10, 6))\n",
        "bars1 = ax.bar(x - width/2, csv_values, width, label='heart.csv', color='skyblue')\n",
        "bars2 = ax.bar(x + width/2, dat_values, width, label='heart.dat', color='lightcoral')\n",
        "\n",
        "# Add labels and title\n",
        "ax.set_xlabel('Metrics')\n",
        "ax.set_ylabel('Scores')\n",
        "ax.set_title('Comparison of MLP Results on heart.csv and heart.dat Datasets')\n",
        "ax.set_xticks(x)\n",
        "ax.set_xticklabels(metrics)\n",
        "ax.legend()\n",
        "\n",
        "# Add value labels on top of bars\n",
        "def add_labels(bars):\n",
        "    for bar in bars:\n",
        "        height = bar.get_height()\n",
        "        ax.annotate(f'{height:.2f}', xy=(bar.get_x() + bar.get_width() / 2, height),\n",
        "                    xytext=(0, 3), textcoords=\"offset points\", ha='center', va='bottom')\n",
        "\n",
        "add_labels(bars1)\n",
        "add_labels(bars2)\n",
        "\n",
        "# Show the chart\n",
        "plt.tight_layout()\n",
        "plt.savefig('mlp_comparison_chart.png')\n",
        "plt.show()\n"
      ],
      "metadata": {
        "colab": {
          "base_uri": "https://localhost:8080/",
          "height": 607
        },
        "id": "HpN-_yaHOkVo",
        "outputId": "01da9ac4-8df9-45d2-96c3-c7cc33d4a05e"
      },
      "execution_count": 15,
      "outputs": [
        {
          "output_type": "display_data",
          "data": {
            "text/plain": [
              "<Figure size 1000x600 with 1 Axes>"
            ],
            "image/png": "[encoded data removed]"
          },
          "metadata": {}
        }
      ]
    },
    {
      "cell_type": "markdown",
      "source": [
        "Comparison of SVM Results on heart.csv and heart.dat Datasets"
      ],
      "metadata": {
        "id": "ogXWIRfdaG0B"
      }
    },
    {
      "cell_type": "code",
      "source": [
        "import matplotlib.pyplot as plt\n",
        "import numpy as np\n",
        "\n",
        "# Data for SVM Results\n",
        "metrics = ['Precision', 'Recall', 'F1-Score', 'Accuracy']\n",
        "heart_csv_values = [0.89, 0.89, 0.89, 0.8878]\n",
        "heart_dat_values = [0.88, 0.87, 0.88, 0.8889]\n",
        "\n",
        "x = np.arange(len(metrics))  # Label locations\n",
        "width = 0.35  # Bar width\n",
        "\n",
        "fig, ax = plt.subplots(figsize=(10, 6))\n",
        "bars1 = ax.bar(x - width/2, heart_csv_values, width, label='heart.csv', color='skyblue')\n",
        "bars2 = ax.bar(x + width/2, heart_dat_values, width, label='heart.dat', color='lightcoral')\n",
        "\n",
        "# Add labels, title, and legend\n",
        "ax.set_xlabel('Metrics')\n",
        "ax.set_ylabel('Scores')\n",
        "ax.set_title('Comparison of SVM Results on heart.csv and heart.dat Datasets')\n",
        "ax.set_xticks(x)\n",
        "ax.set_xticklabels(metrics)\n",
        "ax.legend()\n",
        "\n",
        "# Add values above bars\n",
        "for bar in bars1 + bars2:\n",
        "    yval = bar.get_height()\n",
        "    ax.text(bar.get_x() + bar.get_width()/2, yval + 0.01, f'{yval:.2f}', ha='center', va='bottom')\n",
        "\n",
        "plt.tight_layout()\n",
        "plt.show()\n"
      ],
      "metadata": {
        "colab": {
          "base_uri": "https://localhost:8080/",
          "height": 607
        },
        "id": "umyj-qCnaJTG",
        "outputId": "f8848656-d426-4f2e-ff5b-6d2a46a8cba3"
      },
      "execution_count": 16,
      "outputs": [
        {
          "output_type": "display_data",
          "data": {
            "text/plain": [
              "<Figure size 1000x600 with 1 Axes>"
            ],
            "image/png": "[encoded data removed]"
          },
          "metadata": {}
        }
      ]
    },
    {
      "cell_type": "code",
      "source": [
        "import matplotlib.pyplot as plt\n",
        "import numpy as np\n",
        "\n",
        "# Data for heart.csv and heart.dat datasets\n",
        "datasets = ['heart.csv', 'heart.dat']\n",
        "metrics = ['Precision', 'Recall', 'F1-Score', 'Accuracy']\n",
        "heart_csv_scores = [0.89, 0.89, 0.89, 0.8878]\n",
        "heart_dat_scores = [0.89, 0.87, 0.88, 0.8889]\n",
        "\n",
        "# Create a bar chart\n",
        "x = np.arange(len(metrics))\n",
        "width = 0.35  # Width of bars\n",
        "\n",
        "fig, ax = plt.subplots(figsize=(10, 6))\n",
        "bars_csv = ax.bar(x - width/2, heart_csv_scores, width, label='heart.csv')\n",
        "bars_dat = ax.bar(x + width/2, heart_dat_scores, width, label='heart.dat')\n",
        "\n",
        "# Add labels, title, and legend\n",
        "ax.set_xlabel('Metrics')\n",
        "ax.set_ylabel('Scores')\n",
        "ax.set_title('Comparison of SVM Results on heart.csv and heart.dat Datasets')\n",
        "ax.set_xticks(x)\n",
        "ax.set_xticklabels(metrics)\n",
        "ax.legend()\n",
        "\n",
        "# Add data labels on bars\n",
        "for bars in [bars_csv, bars_dat]:\n",
        "    for bar in bars:\n",
        "        height = bar.get_height()\n",
        "        ax.annotate(f'{height:.2f}',\n",
        "                    xy=(bar.get_x() + bar.get_width() / 2, height),\n",
        "                    xytext=(0, 3),  # 3 points vertical offset\n",
        "                    textcoords=\"offset points\",\n",
        "                    ha='center', va='bottom')\n",
        "\n",
        "# Show the plot\n",
        "plt.tight_layout()\n",
        "plt.show()\n"
      ],
      "metadata": {
        "colab": {
          "base_uri": "https://localhost:8080/",
          "height": 607
        },
        "id": "qUxokuxhcHO1",
        "outputId": "71d0c353-27e5-4efa-8ebe-51625e473dac"
      },
      "execution_count": 17,
      "outputs": [
        {
          "output_type": "display_data",
          "data": {
            "text/plain": [
              "<Figure size 1000x600 with 1 Axes>"
            ],
            "image/png": "[encoded data removed]"
          },
          "metadata": {}
        }
      ]
    }
  ]
}